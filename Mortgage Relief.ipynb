{
 "cells": [
  {
   "cell_type": "code",
   "execution_count": 88,
   "metadata": {},
   "outputs": [],
   "source": [
    "## import packages\n",
    "import pandas as pd\n",
    "import numpy as np\n",
    "import seaborn as sns\n",
    "import matplotlib.pyplot as plt\n",
    "import sqlalchemy"
   ]
  },
  {
   "cell_type": "code",
   "execution_count": 89,
   "metadata": {},
   "outputs": [
    {
     "data": {
      "text/html": [
       "<div>\n",
       "<style scoped>\n",
       "    .dataframe tbody tr th:only-of-type {\n",
       "        vertical-align: middle;\n",
       "    }\n",
       "\n",
       "    .dataframe tbody tr th {\n",
       "        vertical-align: top;\n",
       "    }\n",
       "\n",
       "    .dataframe thead th {\n",
       "        text-align: right;\n",
       "    }\n",
       "</style>\n",
       "<table border=\"1\" class=\"dataframe\">\n",
       "  <thead>\n",
       "    <tr style=\"text-align: right;\">\n",
       "      <th></th>\n",
       "      <th>Affiliate</th>\n",
       "      <th>ID</th>\n",
       "      <th>Loan No</th>\n",
       "      <th>Street Address\\n(ex: 1234 Five Lane)</th>\n",
       "      <th>City</th>\n",
       "      <th>State Abbreviation</th>\n",
       "      <th>Zip</th>\n",
       "      <th>Sales Price</th>\n",
       "      <th>Closing Date\\n(mm/yyyy)</th>\n",
       "      <th>Term (Months)</th>\n",
       "      <th>...</th>\n",
       "      <th>12-month report\\nFinancial counseling provided during period of mortgage relief</th>\n",
       "      <th>12-month report\\nOther training/support received from HFH?</th>\n",
       "      <th>12-month report\\nDescription of other training received</th>\n",
       "      <th>12-month report\\nReferrals to other agencies</th>\n",
       "      <th>12-month report\\nDescribe referral</th>\n",
       "      <th>12-month report Resident Loan number-referenced) currently residing in home?</th>\n",
       "      <th>12-month report If resident no longer residing in home, please explain</th>\n",
       "      <th>12-month report-additional details on titleholders residing in home</th>\n",
       "      <th>Note</th>\n",
       "      <th>Funds</th>\n",
       "    </tr>\n",
       "  </thead>\n",
       "  <tbody>\n",
       "    <tr>\n",
       "      <th>0</th>\n",
       "      <td>Aitkin County HFH  (MN)</td>\n",
       "      <td>1</td>\n",
       "      <td>78001567</td>\n",
       "      <td>NaN</td>\n",
       "      <td>Aitkin</td>\n",
       "      <td>MN</td>\n",
       "      <td>56431</td>\n",
       "      <td>$ 88,800.00</td>\n",
       "      <td>9/27/2013</td>\n",
       "      <td>240.0</td>\n",
       "      <td>...</td>\n",
       "      <td>Yes</td>\n",
       "      <td>No</td>\n",
       "      <td>local banker/mentor</td>\n",
       "      <td>No</td>\n",
       "      <td>NaN</td>\n",
       "      <td>Yes</td>\n",
       "      <td>NaN</td>\n",
       "      <td>NaN</td>\n",
       "      <td>NaN</td>\n",
       "      <td>Thrivent</td>\n",
       "    </tr>\n",
       "  </tbody>\n",
       "</table>\n",
       "<p>1 rows × 89 columns</p>\n",
       "</div>"
      ],
      "text/plain": [
       "                 Affiliate  ID   Loan No  \\\n",
       "0  Aitkin County HFH  (MN)   1  78001567   \n",
       "\n",
       "   Street Address\\n(ex: 1234 Five Lane)    City State Abbreviation    Zip  \\\n",
       "0                                   NaN  Aitkin                 MN  56431   \n",
       "\n",
       "    Sales Price  Closing Date\\n(mm/yyyy)  Term (Months)  ...  \\\n",
       "0   $ 88,800.00                9/27/2013          240.0  ...   \n",
       "\n",
       "  12-month report\\nFinancial counseling provided during period of mortgage relief  \\\n",
       "0                                                Yes                                \n",
       "\n",
       "  12-month report\\nOther training/support received from HFH?  \\\n",
       "0                                                 No           \n",
       "\n",
       "  12-month report\\nDescription of other training received  \\\n",
       "0                                local banker/mentor        \n",
       "\n",
       "  12-month report\\nReferrals to other agencies  \\\n",
       "0                                           No   \n",
       "\n",
       "  12-month report\\nDescribe referral  \\\n",
       "0                                NaN   \n",
       "\n",
       "  12-month report Resident Loan number-referenced) currently residing in home?  \\\n",
       "0                                                Yes                             \n",
       "\n",
       "  12-month report If resident no longer residing in home, please explain  \\\n",
       "0                                                NaN                       \n",
       "\n",
       "  12-month report-additional details on titleholders residing in home Note  \\\n",
       "0                                                NaN                   NaN   \n",
       "\n",
       "      Funds  \n",
       "0  Thrivent  \n",
       "\n",
       "[1 rows x 89 columns]"
      ]
     },
     "execution_count": 89,
     "metadata": {},
     "output_type": "execute_result"
    }
   ],
   "source": [
    "## import table from HFHI\n",
    "mortgagerelief = pd.read_csv('MRData.csv')\n",
    "mortgagerelief.head(1)"
   ]
  },
  {
   "cell_type": "code",
   "execution_count": 97,
   "metadata": {},
   "outputs": [
    {
     "data": {
      "image/png": "[encoded data removed]",
      "text/plain": [
       "<Figure size 432x288 with 1 Axes>"
      ]
     },
     "metadata": {
      "needs_background": "light"
     },
     "output_type": "display_data"
    }
   ],
   "source": [
    "#plot gender data\n",
    "genders = mortgagerelief['Title Holder Gender'].str.capitalize().value_counts().sort_values()\n",
    "# takes gender column, standardizes data, groupby\n",
    "genders = genders/sum(genders)*100\n",
    "# make genders into proportions\n",
    "genders.plot.barh(color=['red','purple','#50C7C7'])\n",
    "# create horizontal bar plot with different colors\n",
    "plt.title('Gender Distribution of Mortgage Relief');\n"
   ]
  },
  {
   "cell_type": "code",
   "execution_count": 91,
   "metadata": {},
   "outputs": [
    {
     "data": {
      "text/plain": [
       "<AxesSubplot:>"
      ]
     },
     "execution_count": 91,
     "metadata": {},
     "output_type": "execute_result"
    },
    {
     "data": {
      "image/png": "[encoded data removed]",
      "text/plain": [
       "<Figure size 432x288 with 1 Axes>"
      ]
     },
     "metadata": {
      "needs_background": "light"
     },
     "output_type": "display_data"
    }
   ],
   "source": [
    "races = mortgagerelief[['Asian: Race/Ethnicity title holders','Black or African American: Race/Ethnicity of title holders','White: Race/Ethnicity of title holders',\n",
    "       'Native Hawaiian/Other Pacific Islander: Race/Ethnicity of title holders',\n",
    "       'American Indian or Alaska Native: Race/Ethnicity of title holders',\n",
    "       'Hispanic/Latino: Race/Ethnicity of title holders',\n",
    "       \"Don't Know or Don't want to Answer: Race/Ethnicity of title holders\"]]\n",
    "races = races.rename(columns={'Asian: Race/Ethnicity title holders': 'Asian', 'Black or African American: Race/Ethnicity of title holders': 'Black or African American', 'White: Race/Ethnicity of title holders':'White',\n",
    "                             'Native Hawaiian/Other Pacific Islander: Race/Ethnicity of title holders': 'Native Hawaiian/Other Pacific Islander', 'American Indian or Alaska Native: Race/Ethnicity of title holders':'American Indian or Alaska Native',\n",
    "                             'Hispanic/Latino: Race/Ethnicity of title holders':'Hispanic/Latino', \"Don't Know or Don't want to Answer: Race/Ethnicity of title holders\": \"Don't Know or Don't Want to Answer\"})\n",
    "races = races.fillna('No') \n",
    "races = races.replace({'Yes':1,'No':0, 'yes':1, 'no':0, \"YES\": 1, \"NO\": 0, \" Yes \": 1, \"*\": 0, \"X\": 1})\n",
    "races = races.sum(axis = 0) #add up total number of \n",
    "noAnswer = races[\"Don't Know or Don't Want to Answer\"] #number of people who answered no race\n",
    "races1 = races.drop(\"Don't Know or Don't Want to Answer\") #we're not using data of people who answered no race\n",
    "races1 = races1 / sum(races1) * 100\n",
    "races1 = races1.sort_values()\n",
    "races1.plot.barh()\n"
   ]
  },
  {
   "cell_type": "code",
   "execution_count": 133,
   "metadata": {},
   "outputs": [
    {
     "data": {
      "text/plain": [
       "<AxesSubplot:>"
      ]
     },
     "execution_count": 133,
     "metadata": {},
     "output_type": "execute_result"
    },
    {
     "data": {
      "image/png": "[encoded data removed]",
      "text/plain": [
       "<Figure size 432x288 with 1 Axes>"
      ]
     },
     "metadata": {
      "needs_background": "light"
     },
     "output_type": "display_data"
    }
   ],
   "source": [
    "## Total # of people who reside in the household\n",
    "numppl = mortgagerelief['Total # of people living in the household'].dropna()\n",
    "#numpplused = numppl.value_counts().drop(['Unkown','Unknown','na'])\n",
    "#numppl[pd.to_numeric(numppl['id'], errors='coerce').notnull()]\n",
    "numppl = numppl[pd.to_numeric(numppl, errors='coerce').notnull()].astype(int).value_counts().sort_index(ascending=False)\n",
    "numppl = numppl/sum(numppl)*100\n",
    "numppl.plot.barh()"
   ]
  },
  {
   "cell_type": "code",
   "execution_count": 134,
   "metadata": {},
   "outputs": [
    {
     "data": {
      "text/plain": [
       "<AxesSubplot:>"
      ]
     },
     "execution_count": 134,
     "metadata": {},
     "output_type": "execute_result"
    },
    {
     "data": {
      "image/png": "[encoded data removed]",
      "text/plain": [
       "<Figure size 432x288 with 1 Axes>"
      ]
     },
     "metadata": {
      "needs_background": "light"
     },
     "output_type": "display_data"
    }
   ],
   "source": [
    "## number of individuals with a disability who reside in the household\n",
    "numdisabled = mortgagerelief['# in HH with disability'].fillna(0) #.astype(int)\n",
    "numdisabled = numdisabled[pd.to_numeric(numdisabled, errors='coerce').notnull()].astype(int).value_counts().sort_index(ascending=False)\n",
    "numdisabled = numdisabled/sum(numdisabled)*100\n",
    "numdisabled.plot.barh()"
   ]
  },
  {
   "cell_type": "code",
   "execution_count": 136,
   "metadata": {},
   "outputs": [
    {
     "data": {
      "text/plain": [
       "<AxesSubplot:>"
      ]
     },
     "execution_count": 136,
     "metadata": {},
     "output_type": "execute_result"
    },
    {
     "data": {
      "image/png": "[encoded data removed]",
      "text/plain": [
       "<Figure size 432x288 with 1 Axes>"
      ]
     },
     "metadata": {
      "needs_background": "light"
     },
     "output_type": "display_data"
    }
   ],
   "source": [
    "## number of individuals who served or are currently serving who reside in the household\n",
    "numserved = mortgagerelief['# in HH  served or is currently serving in the military?'].fillna(0)\n",
    "numserved = numserved[pd.to_numeric(numserved, errors='coerce').notnull()].astype(int).value_counts().sort_index(ascending=False)\n",
    "numserved = numserved/sum(numserved)*100\n",
    "numserved.plot.barh()"
   ]
  },
  {
   "cell_type": "code",
   "execution_count": null,
   "metadata": {},
   "outputs": [],
   "source": []
  }
 ],
 "metadata": {
  "kernelspec": {
   "display_name": "Python 3",
   "language": "python",
   "name": "python3"
  },
  "language_info": {
   "codemirror_mode": {
    "name": "ipython",
    "version": 3
   },
   "file_extension": ".py",
   "mimetype": "text/x-python",
   "name": "python",
   "nbconvert_exporter": "python",
   "pygments_lexer": "ipython3",
   "version": "3.7.6"
  }
 },
 "nbformat": 4,
 "nbformat_minor": 4
}
