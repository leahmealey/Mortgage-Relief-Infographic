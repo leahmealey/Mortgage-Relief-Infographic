{
 "cells": [
  {
   "cell_type": "code",
   "execution_count": 2,
   "metadata": {},
   "outputs": [],
   "source": [
    "## import packages\n",
    "import pandas as pd\n",
    "import numpy as np\n",
    "import seaborn as sns\n",
    "import matplotlib.pyplot as plt\n",
    "import sqlalchemy"
   ]
  },
  {
   "cell_type": "code",
   "execution_count": 3,
   "metadata": {},
   "outputs": [
    {
     "data": {
      "text/html": [
       "<div>\n",
       "<style scoped>\n",
       "    .dataframe tbody tr th:only-of-type {\n",
       "        vertical-align: middle;\n",
       "    }\n",
       "\n",
       "    .dataframe tbody tr th {\n",
       "        vertical-align: top;\n",
       "    }\n",
       "\n",
       "    .dataframe thead th {\n",
       "        text-align: right;\n",
       "    }\n",
       "</style>\n",
       "<table border=\"1\" class=\"dataframe\">\n",
       "  <thead>\n",
       "    <tr style=\"text-align: right;\">\n",
       "      <th></th>\n",
       "      <th>Affiliate</th>\n",
       "      <th>ID</th>\n",
       "      <th>Loan No</th>\n",
       "      <th>Street Address\\n(ex: 1234 Five Lane)</th>\n",
       "      <th>City</th>\n",
       "      <th>State Abbreviation</th>\n",
       "      <th>Zip</th>\n",
       "      <th>Sales Price</th>\n",
       "      <th>Closing Date\\n(mm/yyyy)</th>\n",
       "      <th>Term (Months)</th>\n",
       "      <th>...</th>\n",
       "      <th>12-month report\\nFinancial counseling provided during period of mortgage relief</th>\n",
       "      <th>12-month report\\nOther training/support received from HFH?</th>\n",
       "      <th>12-month report\\nDescription of other training received</th>\n",
       "      <th>12-month report\\nReferrals to other agencies</th>\n",
       "      <th>12-month report\\nDescribe referral</th>\n",
       "      <th>12-month report Resident Loan number-referenced) currently residing in home?</th>\n",
       "      <th>12-month report If resident no longer residing in home, please explain</th>\n",
       "      <th>12-month report-additional details on titleholders residing in home</th>\n",
       "      <th>Note</th>\n",
       "      <th>Funds</th>\n",
       "    </tr>\n",
       "  </thead>\n",
       "  <tbody>\n",
       "    <tr>\n",
       "      <th>0</th>\n",
       "      <td>Aitkin County HFH  (MN)</td>\n",
       "      <td>1</td>\n",
       "      <td>78001567</td>\n",
       "      <td>NaN</td>\n",
       "      <td>Aitkin</td>\n",
       "      <td>MN</td>\n",
       "      <td>56431</td>\n",
       "      <td>$ 88,800.00</td>\n",
       "      <td>9/27/2013</td>\n",
       "      <td>240.0</td>\n",
       "      <td>...</td>\n",
       "      <td>Yes</td>\n",
       "      <td>No</td>\n",
       "      <td>local banker/mentor</td>\n",
       "      <td>No</td>\n",
       "      <td>NaN</td>\n",
       "      <td>Yes</td>\n",
       "      <td>NaN</td>\n",
       "      <td>NaN</td>\n",
       "      <td>NaN</td>\n",
       "      <td>Thrivent</td>\n",
       "    </tr>\n",
       "  </tbody>\n",
       "</table>\n",
       "<p>1 rows × 89 columns</p>\n",
       "</div>"
      ],
      "text/plain": [
       "                 Affiliate  ID   Loan No  \\\n",
       "0  Aitkin County HFH  (MN)   1  78001567   \n",
       "\n",
       "   Street Address\\n(ex: 1234 Five Lane)    City State Abbreviation    Zip  \\\n",
       "0                                   NaN  Aitkin                 MN  56431   \n",
       "\n",
       "    Sales Price  Closing Date\\n(mm/yyyy)  Term (Months)  ...  \\\n",
       "0   $ 88,800.00                9/27/2013          240.0  ...   \n",
       "\n",
       "  12-month report\\nFinancial counseling provided during period of mortgage relief  \\\n",
       "0                                                Yes                                \n",
       "\n",
       "  12-month report\\nOther training/support received from HFH?  \\\n",
       "0                                                 No           \n",
       "\n",
       "  12-month report\\nDescription of other training received  \\\n",
       "0                                local banker/mentor        \n",
       "\n",
       "  12-month report\\nReferrals to other agencies  \\\n",
       "0                                           No   \n",
       "\n",
       "  12-month report\\nDescribe referral  \\\n",
       "0                                NaN   \n",
       "\n",
       "  12-month report Resident Loan number-referenced) currently residing in home?  \\\n",
       "0                                                Yes                             \n",
       "\n",
       "  12-month report If resident no longer residing in home, please explain  \\\n",
       "0                                                NaN                       \n",
       "\n",
       "  12-month report-additional details on titleholders residing in home Note  \\\n",
       "0                                                NaN                   NaN   \n",
       "\n",
       "      Funds  \n",
       "0  Thrivent  \n",
       "\n",
       "[1 rows x 89 columns]"
      ]
     },
     "execution_count": 3,
     "metadata": {},
     "output_type": "execute_result"
    }
   ],
   "source": [
    "## import table from HFHI\n",
    "mortgagerelief = pd.read_csv('MRData.csv')\n",
    "mortgagerelief.head(1)"
   ]
  },
  {
   "cell_type": "code",
   "execution_count": 4,
   "metadata": {},
   "outputs": [
    {
     "data": {
      "text/plain": [
       "Index(['Affiliate', 'ID', 'Loan No', 'Street Address\\n(ex: 1234 Five Lane)',\n",
       "       'City', 'State Abbreviation', 'Zip', ' Sales Price ',\n",
       "       'Closing Date\\n(mm/yyyy)', 'Term (Months)', ' Opening Balance ',\n",
       "       ' Principal and Interest Payment ',\n",
       "       ' Total Monthly Payment (including escrow) ', 'Maturity Date\\n(yyyy)',\n",
       "       ' Outstanding Balance ',\n",
       "       ' $ Amount supported by this award for this loan (for example, $600 if supporting 3 months of escrow payments at $200) ',\n",
       "       'Days Delinquent (reported by the 5th of the month for the previous month)',\n",
       "       'Reasons delinquent', 'Describe other reasons delinquent',\n",
       "       'Forbearance issued?', '# of months forbearance issued', ' Arrearage ',\n",
       "       'Please describe how this loan is serviced',\n",
       "       'Has this property been foreclosed?',\n",
       "       'Please explain why this property has been foreclosed',\n",
       "       'FICO (when available)',\n",
       "       'Date FICO accessed (when available-ex. Jun 20 for June 2020)',\n",
       "       'Financial counseling provided during period of mortgage relief',\n",
       "       'Other training/support received from HFH?',\n",
       "       'Description of other training received', 'Referrals to other agencies',\n",
       "       'Describe referral', 'Title Holder Gender',\n",
       "       'Asian: Race/Ethnicity title holders',\n",
       "       'Black or African American: Race/Ethnicity of title holders',\n",
       "       'White: Race/Ethnicity of title holders',\n",
       "       'Native Hawaiian/Other Pacific Islander: Race/Ethnicity of title holders',\n",
       "       'American Indian or Alaska Native: Race/Ethnicity of title holders',\n",
       "       'Hispanic/Latino: Race/Ethnicity of title holders',\n",
       "       'Don't Know or Don't want to Answer: Race/Ethnicity of title holders',\n",
       "       'Total # of people living in the household', '# in household 0-5 years',\n",
       "       '# in household 6-12 years', '# in household 13-17 years',\n",
       "       '# in household  18-64 years', '# in household 65+ years',\n",
       "       '# in HH with disability',\n",
       "       '# in HH  served or is currently serving in the military?', 'HH income',\n",
       "       'Resident (Loan number-referenced) currently residing in home?',\n",
       "       'If resident no longer residing in home, please explain',\n",
       "       ' 6-month report\\nOutstanding Balance ',\n",
       "       '6-month report \\nDays Delinquent (reported by the 5th of the month for the previous month)',\n",
       "       '6-month report\\nReasons delinquent',\n",
       "       '6-month report\\nDescribe other reasons delinquent',\n",
       "       '6-month report\\nForbearance issued?',\n",
       "       '\\n6-month report\\n# of months forbearance issued',\n",
       "       ' 6-month report Arrearage ',\n",
       "       '6-month report\\nPlease describe how this loan is serviced',\n",
       "       '6-month report \\nHas this property been foreclosed?',\n",
       "       '6-month report\\nPlease explain why this property has been foreclosed',\n",
       "       '6-month report\\nFinancial counseling provided during period of mortgage relief',\n",
       "       '6-month report\\nOther training/support received from HFH?',\n",
       "       '6-month report\\nDescription of other training received',\n",
       "       '6-month report\\nReferrals to other agencies',\n",
       "       '6-month report\\nDescribe referral',\n",
       "       '6-month report Resident Loan number-referenced) currently residing in home?',\n",
       "       '6-month report If resident no longer residing in home, please explain',\n",
       "       '6-month report-additional details on titleholders residing in home',\n",
       "       '12-month report\\nOutstanding Balance',\n",
       "       '12-month report \\nDays Delinquent (reported by the 5th of the month for the previous month)',\n",
       "       '12-month report\\nReasons delinquent',\n",
       "       '12-month report\\nDescribe other reasons delinquent',\n",
       "       '12-month report\\nForbearance issued?',\n",
       "       '\\n12-month report\\n# of months forbearance issued',\n",
       "       ' 12-month report Arrearage ',\n",
       "       '12-month report\\nPlease describe how this loan is serviced',\n",
       "       '12-month report \\nHas this property been foreclosed?',\n",
       "       '12-month report\\nPlease explain why this property has been foreclosed',\n",
       "       '12-month report\\nFinancial counseling provided during period of mortgage relief',\n",
       "       '12-month report\\nOther training/support received from HFH?',\n",
       "       '12-month report\\nDescription of other training received',\n",
       "       '12-month report\\nReferrals to other agencies',\n",
       "       '12-month report\\nDescribe referral',\n",
       "       '12-month report Resident Loan number-referenced) currently residing in home?',\n",
       "       '12-month report If resident no longer residing in home, please explain',\n",
       "       '12-month report-additional details on titleholders residing in home',\n",
       "       'Note', 'Funds'],\n",
       "      dtype='object')"
      ]
     },
     "execution_count": 4,
     "metadata": {},
     "output_type": "execute_result"
    }
   ],
   "source": [
    "mortgagerelief.columns"
   ]
  },
  {
   "cell_type": "markdown",
   "metadata": {},
   "source": [
    "### State Demographics"
   ]
  },
  {
   "cell_type": "code",
   "execution_count": 5,
   "metadata": {},
   "outputs": [
    {
     "data": {
      "text/plain": [
       "Text(0, 0.5, 'Count')"
      ]
     },
     "execution_count": 5,
     "metadata": {},
     "output_type": "execute_result"
    },
    {
     "data": {
      "text/plain": [
       "<Figure size 1600x1600 with 0 Axes>"
      ]
     },
     "metadata": {},
     "output_type": "display_data"
    },
    {
     "data": {
      "image/png": "[encoded data removed]",
      "text/plain": [
       "<Figure size 432x288 with 1 Axes>"
      ]
     },
     "metadata": {
      "needs_background": "light"
     },
     "output_type": "display_data"
    }
   ],
   "source": [
    "from matplotlib.pyplot import figure\n",
    "\n",
    "states = mortgagerelief\n",
    "states['State'] = states['Affiliate'].str.findall('\\(([^\\)]+)\\)')\n",
    "stateFreq = states['State'].value_counts().reset_index()\n",
    "stateFreq = stateFreq.drop(1)\n",
    "\n",
    "stateFreq.loc[0,'State'] += 12\n",
    "stateFreq.loc[3, 'State'] += 40\n",
    "stateFreq.loc[7,'State'] += 10\n",
    "stateFreq.loc[5, 'State'] += 8\n",
    "stateFreq.loc[24, 'State'] += 24\n",
    "stateFreq.loc[30, 'State'] += 3\n",
    "stateFreq.loc[11, 'State'] += 11\n",
    "stateFreq.loc[12, 'State'] += 5\n",
    "stateFreq.loc[17, 'State'] += 3\n",
    "stateFreq.loc[6, 'State'] += 7\n",
    "stateFreq.loc[20, 'State'] += 4\n",
    "\n",
    "stateFreq = stateFreq.set_index('index')\n",
    "stateFreq.sort_values(by='State', ascending=False)\n",
    "\n",
    "figure(figsize=(20, 20), dpi=80)\n",
    "stateFreq.plot.bar()\n",
    "plt.title(\"State Demographics\")\n",
    "plt.xlabel(\"State\")\n",
    "plt.ylabel(\"Count\")"
   ]
  },
  {
   "cell_type": "code",
   "execution_count": 43,
   "metadata": {},
   "outputs": [
    {
     "data": {
      "text/plain": [
       "Text(0.5, 1.0, 'State Demographics')"
      ]
     },
     "execution_count": 43,
     "metadata": {},
     "output_type": "execute_result"
    },
    {
     "data": {
      "image/png": "[encoded data removed]",
      "text/plain": [
       "<Figure size 1440x720 with 1 Axes>"
      ]
     },
     "metadata": {
      "needs_background": "light"
     },
     "output_type": "display_data"
    }
   ],
   "source": [
    "states = mortgagerelief\n",
    "states['State'] = states['Affiliate'].str.findall('\\(([^\\)]+)\\)')\n",
    "stateFreq = states['State'].value_counts().reset_index()\n",
    "stateFreq = stateFreq.drop(1).rename(columns={'State':'Frequency'})\n",
    "stateFreq['State'] = stateFreq['index'].astype(str).str[2:4]\n",
    "stateFreq = stateFreq[['State','Frequency']].set_index('State')\n",
    "stateFreq.plot.barh(figsize=(20, 10),color=['#0060BA'])\n",
    "plt.xlabel('Number of Homes Served',fontsize=20)\n",
    "plt.title('State Demographics',fontsize=30)"
   ]
  },
  {
   "cell_type": "code",
   "execution_count": 29,
   "metadata": {},
   "outputs": [
    {
     "name": "stdout",
     "output_type": "stream",
     "text": [
      "Collecting chart_studio\n",
      "  Downloading chart_studio-1.1.0-py3-none-any.whl (64 kB)\n",
      "Collecting plotly\n",
      "  Downloading plotly-5.5.0-py2.py3-none-any.whl (26.5 MB)\n",
      "Requirement already satisfied: requests in c:\\users\\leahm\\anaconda3\\lib\\site-packages (from chart_studio) (2.24.0)\n",
      "Requirement already satisfied: six in c:\\users\\leahm\\anaconda3\\lib\\site-packages (from chart_studio) (1.15.0)\n",
      "Collecting retrying>=1.3.3\n",
      "  Downloading retrying-1.3.3.tar.gz (10 kB)\n",
      "Collecting tenacity>=6.2.0\n",
      "  Downloading tenacity-8.0.1-py3-none-any.whl (24 kB)\n",
      "Requirement already satisfied: urllib3!=1.25.0,!=1.25.1,<1.26,>=1.21.1 in c:\\users\\leahm\\anaconda3\\lib\\site-packages (from requests->chart_studio) (1.25.11)\n",
      "Requirement already satisfied: certifi>=2017.4.17 in c:\\users\\leahm\\anaconda3\\lib\\site-packages (from requests->chart_studio) (2020.6.20)\n",
      "Requirement already satisfied: idna<3,>=2.5 in c:\\users\\leahm\\anaconda3\\lib\\site-packages (from requests->chart_studio) (2.10)\n",
      "Requirement already satisfied: chardet<4,>=3.0.2 in c:\\users\\leahm\\anaconda3\\lib\\site-packages (from requests->chart_studio) (3.0.4)\n",
      "Building wheels for collected packages: retrying\n",
      "  Building wheel for retrying (setup.py): started\n",
      "  Building wheel for retrying (setup.py): finished with status 'done'\n",
      "  Created wheel for retrying: filename=retrying-1.3.3-py3-none-any.whl size=11434 sha256=c62a5b7ade31d63c30fe621288dabd26c69c15e1611c70ddd40794d08e58934b\n",
      "  Stored in directory: c:\\users\\leahm\\appdata\\local\\pip\\cache\\wheels\\c4\\a7\\48\\0a434133f6d56e878ca511c0e6c38326907c0792f67b476e56\n",
      "Successfully built retrying\n",
      "Installing collected packages: tenacity, plotly, retrying, chart-studio\n",
      "Successfully installed chart-studio-1.1.0 plotly-5.5.0 retrying-1.3.3 tenacity-8.0.1\n"
     ]
    },
    {
     "ename": "KeyboardInterrupt",
     "evalue": "",
     "output_type": "error",
     "traceback": [
      "\u001b[1;31m---------------------------------------------------------------------------\u001b[0m",
      "\u001b[1;31mKeyboardInterrupt\u001b[0m                         Traceback (most recent call last)",
      "\u001b[1;32m<ipython-input-29-8ccee69aba72>\u001b[0m in \u001b[0;36m<module>\u001b[1;34m\u001b[0m\n\u001b[0;32m     47\u001b[0m \u001b[0mfig\u001b[0m \u001b[1;33m=\u001b[0m \u001b[0mdict\u001b[0m\u001b[1;33m(\u001b[0m \u001b[0mdata\u001b[0m\u001b[1;33m=\u001b[0m\u001b[0mdata\u001b[0m\u001b[1;33m,\u001b[0m \u001b[0mlayout\u001b[0m\u001b[1;33m=\u001b[0m\u001b[0mlayout\u001b[0m \u001b[1;33m)\u001b[0m\u001b[1;33m\u001b[0m\u001b[1;33m\u001b[0m\u001b[0m\n\u001b[0;32m     48\u001b[0m \u001b[1;33m\u001b[0m\u001b[0m\n\u001b[1;32m---> 49\u001b[1;33m \u001b[0murl\u001b[0m \u001b[1;33m=\u001b[0m \u001b[0mpy\u001b[0m\u001b[1;33m.\u001b[0m\u001b[0mplot\u001b[0m\u001b[1;33m(\u001b[0m \u001b[0mfig\u001b[0m\u001b[1;33m,\u001b[0m \u001b[0mfilename\u001b[0m\u001b[1;33m=\u001b[0m\u001b[1;34m'd3-cloropleth-map'\u001b[0m \u001b[1;33m)\u001b[0m\u001b[1;33m\u001b[0m\u001b[1;33m\u001b[0m\u001b[0m\n\u001b[0m",
      "\u001b[1;32m~\\anaconda3\\lib\\site-packages\\chart_studio\\plotly\\plotly.py\u001b[0m in \u001b[0;36mplot\u001b[1;34m(figure_or_data, validate, **plot_options)\u001b[0m\n\u001b[0;32m    274\u001b[0m             \u001b[0mgrid_filename\u001b[0m \u001b[1;33m=\u001b[0m \u001b[0mfilename\u001b[0m \u001b[1;33m+\u001b[0m \u001b[1;34m\"_grid\"\u001b[0m\u001b[1;33m\u001b[0m\u001b[1;33m\u001b[0m\u001b[0m\n\u001b[0;32m    275\u001b[0m \u001b[1;33m\u001b[0m\u001b[0m\n\u001b[1;32m--> 276\u001b[1;33m         grid_ops.upload(\n\u001b[0m\u001b[0;32m    277\u001b[0m             \u001b[0mgrid\u001b[0m\u001b[1;33m=\u001b[0m\u001b[0mgrid\u001b[0m\u001b[1;33m,\u001b[0m\u001b[1;33m\u001b[0m\u001b[1;33m\u001b[0m\u001b[0m\n\u001b[0;32m    278\u001b[0m             \u001b[0mfilename\u001b[0m\u001b[1;33m=\u001b[0m\u001b[0mgrid_filename\u001b[0m\u001b[1;33m,\u001b[0m\u001b[1;33m\u001b[0m\u001b[1;33m\u001b[0m\u001b[0m\n",
      "\u001b[1;32m~\\anaconda3\\lib\\site-packages\\chart_studio\\plotly\\plotly.py\u001b[0m in \u001b[0;36mupload\u001b[1;34m(cls, grid, filename, world_readable, auto_open, meta)\u001b[0m\n\u001b[0;32m   1085\u001b[0m                 \u001b[0mpayload\u001b[0m\u001b[1;33m[\u001b[0m\u001b[1;34m\"parent_path\"\u001b[0m\u001b[1;33m]\u001b[0m \u001b[1;33m=\u001b[0m \u001b[0mparent_path\u001b[0m\u001b[1;33m\u001b[0m\u001b[1;33m\u001b[0m\u001b[0m\n\u001b[0;32m   1086\u001b[0m \u001b[1;33m\u001b[0m\u001b[0m\n\u001b[1;32m-> 1087\u001b[1;33m         \u001b[0mfile_info\u001b[0m \u001b[1;33m=\u001b[0m \u001b[0m_create_or_overwrite_grid\u001b[0m\u001b[1;33m(\u001b[0m\u001b[0mpayload\u001b[0m\u001b[1;33m)\u001b[0m\u001b[1;33m\u001b[0m\u001b[1;33m\u001b[0m\u001b[0m\n\u001b[0m\u001b[0;32m   1088\u001b[0m \u001b[1;33m\u001b[0m\u001b[0m\n\u001b[0;32m   1089\u001b[0m         \u001b[0mcols\u001b[0m \u001b[1;33m=\u001b[0m \u001b[0mfile_info\u001b[0m\u001b[1;33m[\u001b[0m\u001b[1;34m\"cols\"\u001b[0m\u001b[1;33m]\u001b[0m\u001b[1;33m\u001b[0m\u001b[1;33m\u001b[0m\u001b[0m\n",
      "\u001b[1;32m~\\anaconda3\\lib\\site-packages\\chart_studio\\plotly\\plotly.py\u001b[0m in \u001b[0;36m_create_or_overwrite_grid\u001b[1;34m(data, max_retries)\u001b[0m\n\u001b[0;32m   1526\u001b[0m     \u001b[1;32mif\u001b[0m \u001b[0mfilename\u001b[0m\u001b[1;33m:\u001b[0m\u001b[1;33m\u001b[0m\u001b[1;33m\u001b[0m\u001b[0m\n\u001b[0;32m   1527\u001b[0m         \u001b[1;32mtry\u001b[0m\u001b[1;33m:\u001b[0m\u001b[1;33m\u001b[0m\u001b[1;33m\u001b[0m\u001b[0m\n\u001b[1;32m-> 1528\u001b[1;33m             \u001b[0mlookup_res\u001b[0m \u001b[1;33m=\u001b[0m \u001b[0mv2\u001b[0m\u001b[1;33m.\u001b[0m\u001b[0mfiles\u001b[0m\u001b[1;33m.\u001b[0m\u001b[0mlookup\u001b[0m\u001b[1;33m(\u001b[0m\u001b[0mfilename\u001b[0m\u001b[1;33m)\u001b[0m\u001b[1;33m\u001b[0m\u001b[1;33m\u001b[0m\u001b[0m\n\u001b[0m\u001b[0;32m   1529\u001b[0m             \u001b[1;32mif\u001b[0m \u001b[0misinstance\u001b[0m\u001b[1;33m(\u001b[0m\u001b[0mlookup_res\u001b[0m\u001b[1;33m.\u001b[0m\u001b[0mcontent\u001b[0m\u001b[1;33m,\u001b[0m \u001b[0mbytes\u001b[0m\u001b[1;33m)\u001b[0m\u001b[1;33m:\u001b[0m\u001b[1;33m\u001b[0m\u001b[1;33m\u001b[0m\u001b[0m\n\u001b[0;32m   1530\u001b[0m                 \u001b[0mcontent\u001b[0m \u001b[1;33m=\u001b[0m \u001b[0mlookup_res\u001b[0m\u001b[1;33m.\u001b[0m\u001b[0mcontent\u001b[0m\u001b[1;33m.\u001b[0m\u001b[0mdecode\u001b[0m\u001b[1;33m(\u001b[0m\u001b[1;34m\"utf-8\"\u001b[0m\u001b[1;33m)\u001b[0m\u001b[1;33m\u001b[0m\u001b[1;33m\u001b[0m\u001b[0m\n",
      "\u001b[1;32m~\\anaconda3\\lib\\site-packages\\chart_studio\\api\\v2\\files.py\u001b[0m in \u001b[0;36mlookup\u001b[1;34m(path, parent, user, exists)\u001b[0m\n\u001b[0;32m     83\u001b[0m     \u001b[0murl\u001b[0m \u001b[1;33m=\u001b[0m \u001b[0mbuild_url\u001b[0m\u001b[1;33m(\u001b[0m\u001b[0mRESOURCE\u001b[0m\u001b[1;33m,\u001b[0m \u001b[0mroute\u001b[0m\u001b[1;33m=\u001b[0m\u001b[1;34m\"lookup\"\u001b[0m\u001b[1;33m)\u001b[0m\u001b[1;33m\u001b[0m\u001b[1;33m\u001b[0m\u001b[0m\n\u001b[0;32m     84\u001b[0m     \u001b[0mparams\u001b[0m \u001b[1;33m=\u001b[0m \u001b[0mmake_params\u001b[0m\u001b[1;33m(\u001b[0m\u001b[0mpath\u001b[0m\u001b[1;33m=\u001b[0m\u001b[0mpath\u001b[0m\u001b[1;33m,\u001b[0m \u001b[0mparent\u001b[0m\u001b[1;33m=\u001b[0m\u001b[0mparent\u001b[0m\u001b[1;33m,\u001b[0m \u001b[0muser\u001b[0m\u001b[1;33m=\u001b[0m\u001b[0muser\u001b[0m\u001b[1;33m,\u001b[0m \u001b[0mexists\u001b[0m\u001b[1;33m=\u001b[0m\u001b[0mexists\u001b[0m\u001b[1;33m)\u001b[0m\u001b[1;33m\u001b[0m\u001b[1;33m\u001b[0m\u001b[0m\n\u001b[1;32m---> 85\u001b[1;33m     \u001b[1;32mreturn\u001b[0m \u001b[0mrequest\u001b[0m\u001b[1;33m(\u001b[0m\u001b[1;34m\"get\"\u001b[0m\u001b[1;33m,\u001b[0m \u001b[0murl\u001b[0m\u001b[1;33m,\u001b[0m \u001b[0mparams\u001b[0m\u001b[1;33m=\u001b[0m\u001b[0mparams\u001b[0m\u001b[1;33m)\u001b[0m\u001b[1;33m\u001b[0m\u001b[1;33m\u001b[0m\u001b[0m\n\u001b[0m",
      "\u001b[1;32m~\\anaconda3\\lib\\site-packages\\retrying.py\u001b[0m in \u001b[0;36mwrapped_f\u001b[1;34m(*args, **kw)\u001b[0m\n\u001b[0;32m     47\u001b[0m             \u001b[1;33m@\u001b[0m\u001b[0msix\u001b[0m\u001b[1;33m.\u001b[0m\u001b[0mwraps\u001b[0m\u001b[1;33m(\u001b[0m\u001b[0mf\u001b[0m\u001b[1;33m)\u001b[0m\u001b[1;33m\u001b[0m\u001b[1;33m\u001b[0m\u001b[0m\n\u001b[0;32m     48\u001b[0m             \u001b[1;32mdef\u001b[0m \u001b[0mwrapped_f\u001b[0m\u001b[1;33m(\u001b[0m\u001b[1;33m*\u001b[0m\u001b[0margs\u001b[0m\u001b[1;33m,\u001b[0m \u001b[1;33m**\u001b[0m\u001b[0mkw\u001b[0m\u001b[1;33m)\u001b[0m\u001b[1;33m:\u001b[0m\u001b[1;33m\u001b[0m\u001b[1;33m\u001b[0m\u001b[0m\n\u001b[1;32m---> 49\u001b[1;33m                 \u001b[1;32mreturn\u001b[0m \u001b[0mRetrying\u001b[0m\u001b[1;33m(\u001b[0m\u001b[1;33m*\u001b[0m\u001b[0mdargs\u001b[0m\u001b[1;33m,\u001b[0m \u001b[1;33m**\u001b[0m\u001b[0mdkw\u001b[0m\u001b[1;33m)\u001b[0m\u001b[1;33m.\u001b[0m\u001b[0mcall\u001b[0m\u001b[1;33m(\u001b[0m\u001b[0mf\u001b[0m\u001b[1;33m,\u001b[0m \u001b[1;33m*\u001b[0m\u001b[0margs\u001b[0m\u001b[1;33m,\u001b[0m \u001b[1;33m**\u001b[0m\u001b[0mkw\u001b[0m\u001b[1;33m)\u001b[0m\u001b[1;33m\u001b[0m\u001b[1;33m\u001b[0m\u001b[0m\n\u001b[0m\u001b[0;32m     50\u001b[0m \u001b[1;33m\u001b[0m\u001b[0m\n\u001b[0;32m     51\u001b[0m             \u001b[1;32mreturn\u001b[0m \u001b[0mwrapped_f\u001b[0m\u001b[1;33m\u001b[0m\u001b[1;33m\u001b[0m\u001b[0m\n",
      "\u001b[1;32m~\\anaconda3\\lib\\site-packages\\retrying.py\u001b[0m in \u001b[0;36mcall\u001b[1;34m(self, fn, *args, **kwargs)\u001b[0m\n\u001b[0;32m    218\u001b[0m                     \u001b[0mjitter\u001b[0m \u001b[1;33m=\u001b[0m \u001b[0mrandom\u001b[0m\u001b[1;33m.\u001b[0m\u001b[0mrandom\u001b[0m\u001b[1;33m(\u001b[0m\u001b[1;33m)\u001b[0m \u001b[1;33m*\u001b[0m \u001b[0mself\u001b[0m\u001b[1;33m.\u001b[0m\u001b[0m_wait_jitter_max\u001b[0m\u001b[1;33m\u001b[0m\u001b[1;33m\u001b[0m\u001b[0m\n\u001b[0;32m    219\u001b[0m                     \u001b[0msleep\u001b[0m \u001b[1;33m=\u001b[0m \u001b[0msleep\u001b[0m \u001b[1;33m+\u001b[0m \u001b[0mmax\u001b[0m\u001b[1;33m(\u001b[0m\u001b[1;36m0\u001b[0m\u001b[1;33m,\u001b[0m \u001b[0mjitter\u001b[0m\u001b[1;33m)\u001b[0m\u001b[1;33m\u001b[0m\u001b[1;33m\u001b[0m\u001b[0m\n\u001b[1;32m--> 220\u001b[1;33m                 \u001b[0mtime\u001b[0m\u001b[1;33m.\u001b[0m\u001b[0msleep\u001b[0m\u001b[1;33m(\u001b[0m\u001b[0msleep\u001b[0m \u001b[1;33m/\u001b[0m \u001b[1;36m1000.0\u001b[0m\u001b[1;33m)\u001b[0m\u001b[1;33m\u001b[0m\u001b[1;33m\u001b[0m\u001b[0m\n\u001b[0m\u001b[0;32m    221\u001b[0m \u001b[1;33m\u001b[0m\u001b[0m\n\u001b[0;32m    222\u001b[0m             \u001b[0mattempt_number\u001b[0m \u001b[1;33m+=\u001b[0m \u001b[1;36m1\u001b[0m\u001b[1;33m\u001b[0m\u001b[1;33m\u001b[0m\u001b[0m\n",
      "\u001b[1;31mKeyboardInterrupt\u001b[0m: "
     ]
    }
   ],
   "source": [
    "!pip install chart_studio\n",
    "from chart_studio import plotly as py\n",
    "import pandas as pd\n",
    "\n",
    "df = pd.read_csv('https://raw.githubusercontent.com/plotly/datasets/master/2011_us_ag_exports.csv')\n",
    "\n",
    "for col in df.columns:\n",
    "    df[col] = df[col].astype(str)\n",
    "\n",
    "scl = [[0.0, 'rgb(242,240,247)'],[0.2, 'rgb(218,218,235)'],[0.4, 'rgb(188,189,220)'],\\\n",
    "            [0.6, 'rgb(158,154,200)'],[0.8, 'rgb(117,107,177)'],[1.0, 'rgb(84,39,143)']]\n",
    "\n",
    "df['text'] = df['state'] + '<br>' +\\\n",
    "    'Beef '+df['beef']+' Dairy '+df['dairy']+'<br>'+\\\n",
    "    'Fruits '+df['total fruits']+' Veggies ' + df['total veggies']+'<br>'+\\\n",
    "    'Wheat '+df['wheat']+' Corn '+df['corn']\n",
    "\n",
    "data = [ dict(\n",
    "        type='choropleth',\n",
    "        colorscale = scl,\n",
    "        autocolorscale = False,\n",
    "        locations = df['code'],\n",
    "        z = df['total exports'].astype(float),\n",
    "        locationmode = 'USA-states',\n",
    "        text = df['text'],\n",
    "        marker = dict(\n",
    "            line = dict (\n",
    "                color = 'rgb(255,255,255)',\n",
    "                width = 2\n",
    "            )\n",
    "        ),\n",
    "        colorbar = dict(\n",
    "            title = \"Millions USD\"\n",
    "        )\n",
    "    ) ]\n",
    "\n",
    "layout = dict(\n",
    "        title = '2011 US Agriculture Exports by State<br>(Hover for breakdown)',\n",
    "        geo = dict(\n",
    "            scope='usa',\n",
    "            projection=dict( type='albers usa' ),\n",
    "            showlakes = True,\n",
    "            lakecolor = 'rgb(255, 255, 255)',\n",
    "        ),\n",
    "    )\n",
    "    \n",
    "fig = dict( data=data, layout=layout )\n",
    "\n",
    "url = py.plot( fig, filename='d3-cloropleth-map' )"
   ]
  },
  {
   "cell_type": "markdown",
   "metadata": {},
   "source": [
    "### Did the amount of support provided change over time?"
   ]
  },
  {
   "cell_type": "code",
   "execution_count": 24,
   "metadata": {},
   "outputs": [
    {
     "data": {
      "text/plain": [
       "no     62.419562\n",
       "yes    37.580438\n",
       "Name: Financial counseling provided during period of mortgage relief, dtype: float64"
      ]
     },
     "execution_count": 24,
     "metadata": {},
     "output_type": "execute_result"
    }
   ],
   "source": [
    "counseling1 = mortgagerelief['Financial counseling provided during period of mortgage relief']\n",
    "counseling1 = counseling1.str.lower()\n",
    "counseling1 = counseling1.str.strip()\n",
    "counseling1 = counseling1.replace({'none':'no'})\n",
    "counseling1 = counseling1.value_counts()\n",
    "counseling1 = counseling1/counseling1.sum()*100\n",
    "counseling1"
   ]
  },
  {
   "cell_type": "code",
   "execution_count": 25,
   "metadata": {},
   "outputs": [
    {
     "data": {
      "text/plain": [
       "no     75.885559\n",
       "yes    24.114441\n",
       "Name: 6-month report\\nFinancial counseling provided during period of mortgage relief, dtype: float64"
      ]
     },
     "execution_count": 25,
     "metadata": {},
     "output_type": "execute_result"
    }
   ],
   "source": [
    "#mortgagerelief.columns\n",
    "counseling2 = mortgagerelief['6-month report\\nFinancial counseling provided during period of mortgage relief']\n",
    "counseling2 = counseling2.str.lower()\n",
    "counseling2 = counseling2.str.strip()\n",
    "counseling2 = counseling2.replace({'none':'no','no was offered':'no'})\n",
    "counseling2 = counseling2.value_counts()\n",
    "counseling2 = counseling2/counseling2.sum()*100\n",
    "counseling2"
   ]
  },
  {
   "cell_type": "code",
   "execution_count": 27,
   "metadata": {},
   "outputs": [
    {
     "data": {
      "text/plain": [
       "no     71.493213\n",
       "yes    28.506787\n",
       "Name: 12-month report\\nFinancial counseling provided during period of mortgage relief, dtype: float64"
      ]
     },
     "execution_count": 27,
     "metadata": {},
     "output_type": "execute_result"
    }
   ],
   "source": [
    "#mortgagerelief.columns\n",
    "counseling3 = mortgagerelief['12-month report\\nFinancial counseling provided during period of mortgage relief']\n",
    "counseling3 = counseling3.str.lower()\n",
    "counseling3 = counseling3.str.strip()\n",
    "counseling3 = counseling3.replace({'resource direction and ihda ema referral':'yes','couldn’t meet with counseler':'no'})\n",
    "counseling3 = counseling3.value_counts()\n",
    "counseling3 = counseling3/counseling3.sum()*100\n",
    "counseling3"
   ]
  },
  {
   "cell_type": "code",
   "execution_count": 14,
   "metadata": {},
   "outputs": [],
   "source": [
    "final = pd.concat([counseling1.value_counts(), counseling2.value_counts(), counseling3.value_counts()], axis=1)\n",
    "final = final.dropna()\n",
    "final\n",
    "newdf = {'% of households receiving financial counseling':   [ counseling1.value_counts()['yes']/counseling1.value_counts()['no']], \n",
    "           '6 month: % of households receiving financial counseling': [counseling2.value_counts()['yes']/counseling2.value_counts()['no']] ,\n",
    "           '12 month: % of households receiving financial counseling': [counseling3.value_counts()['yes']/counseling3.value_counts()['no'] ] \n",
    "           }\n",
    "\n",
    "newdf=pd.DataFrame.from_dict(newdf)"
   ]
  },
  {
   "cell_type": "code",
   "execution_count": 29,
   "metadata": {},
   "outputs": [
    {
     "name": "stderr",
     "output_type": "stream",
     "text": [
      "<ipython-input-29-240081678e27>:6: DeprecationWarning: The default dtype for empty Series will be 'object' instead of 'float64' in a future version. Specify a dtype explicitly to silence this warning.\n",
      "  newseries = pd.Series()\n"
     ]
    },
    {
     "data": {
      "text/plain": [
       "<AxesSubplot:title={'center':'% of Households Receiving Financial Counseling Over Time'}, xlabel='Timeline', ylabel='Percentage'>"
      ]
     },
     "execution_count": 29,
     "metadata": {},
     "output_type": "execute_result"
    },
    {
     "data": {
      "image/png": "[encoded data removed]",
      "text/plain": [
       "<Figure size 432x288 with 1 Axes>"
      ]
     },
     "metadata": {
      "needs_background": "light"
     },
     "output_type": "display_data"
    }
   ],
   "source": [
    "newdf.plot.barh()\n",
    "plt.title(\"% of Households Receiving Financial Counseling Over Time\")\n",
    "plt.xlabel(\"Timeline\")\n",
    "plt.ylabel(\"Percentage\")\n",
    "\n",
    "newseries = pd.Series()\n",
    "newseries['12 month: % of households receiving financial counseling'] = counseling3['yes']\n",
    "newseries['6 month: % of households receiving financial counseling'] = counseling2['yes']\n",
    "newseries['Baseline: % of households receiving financial counseling'] = counseling1['yes']\n",
    "newseries.plot.barh()"
   ]
  },
  {
   "cell_type": "code",
   "execution_count": 46,
   "metadata": {},
   "outputs": [
    {
     "name": "stderr",
     "output_type": "stream",
     "text": [
      "<ipython-input-46-55d094c0905d>:1: DeprecationWarning: The default dtype for empty Series will be 'object' instead of 'float64' in a future version. Specify a dtype explicitly to silence this warning.\n",
      "  newseries = pd.Series()\n"
     ]
    },
    {
     "data": {
      "text/plain": [
       "12 month    28.506787\n",
       "6 month     24.114441\n",
       "Baseline    37.580438\n",
       "dtype: float64"
      ]
     },
     "execution_count": 46,
     "metadata": {},
     "output_type": "execute_result"
    },
    {
     "data": {
      "image/png": "[encoded data removed]",
      "text/plain": [
       "<Figure size 432x288 with 1 Axes>"
      ]
     },
     "metadata": {
      "needs_background": "light"
     },
     "output_type": "display_data"
    }
   ],
   "source": [
    "newseries = pd.Series()\n",
    "newseries['12 month'] = counseling3['yes']\n",
    "newseries['6 month'] = counseling2['yes']\n",
    "newseries['Baseline'] = counseling1['yes']\n",
    "newseries.plot.barh(color=['#2CB3F2', '#0060BA', '#43B538', '#EB34C0', '#A3007E', '#FF6E0D'])\n",
    "plt.title(\"% of Households Receiving Financial Counseling Over Time\")\n",
    "plt.xlabel(\"Percentage\");\n",
    "newseries"
   ]
  },
  {
   "cell_type": "markdown",
   "metadata": {},
   "source": [
    "### Any differences observed in the supportive services provided by specific affiliated organizations?"
   ]
  },
  {
   "cell_type": "code",
   "execution_count": 47,
   "metadata": {},
   "outputs": [
    {
     "data": {
      "text/plain": [
       "No late fees                                                                                                                            42\n",
       "How to apply for in hardest hit funds                                                                                                   32\n",
       "List provided of local covid hardship resources                                                                                         24\n",
       "Education program is always available                                                                                                   19\n",
       "Offered resources for energy assistance, emergency relief funds, local food pantries, etc.                                              16\n",
       "Resources                                                                                                                               13\n",
       "Classes                                                                                                                                 12\n",
       "Offer of forbearance                                                                                                                     9\n",
       "Wellness checks & guidance on repayment plans & resources available                                                                      9\n",
       "Informal counseling                                                                                                                      7\n",
       "Budget review                                                                                                                            7\n",
       "None                                                                                                                                     6\n",
       "Ceo counseling                                                                                                                           5\n",
       "Support - food, utility                                                                                                                  5\n",
       "Personal calls                                                                                                                           5\n",
       "Escrow management                                                                                                                        5\n",
       "Job referrals                                                                                                                            5\n",
       "Payback options                                                                                                                          5\n",
       "Foreclosure prevention                                                                                                                   5\n",
       "Financial workshops                                                                                                                      4\n",
       "Director advises                                                                                                                         4\n",
       "Financial education                                                                                                                      4\n",
       "Consulting                                                                                                                               4\n",
       "Ongoing personal contact                                                                                                                 4\n",
       "Borrower offered relief if covid related delinquency, offered payment plan & credit counseling if needed.  borrower refused.             3\n",
       "Job search                                                                                                                               2\n",
       "Budgeting                                                                                                                                2\n",
       "Provided support with home maintenance.                                                                                                  2\n",
       "Director and banker advise                                                                                                               2\n",
       "Financial                                                                                                                                2\n",
       "New homeowner                                                                                                                            2\n",
       "Food boxes and ppe delivered                                                                                                             2\n",
       "Monthly calls                                                                                                                            2\n",
       "Mentor/banker advises him                                                                                                                2\n",
       "Emotional support                                                                                                                        2\n",
       "Provided resources available                                                                                                             2\n",
       "Acf rescue funds                                                                                                                         1\n",
       "Food boxes, other mortgage relief options and programs referred, utility assistance                                                      1\n",
       "Helped apply for unemployment                                                                                                            1\n",
       "Food box deliveries bi-weekly                                                                                                            1\n",
       "Food boxes delivered                                                                                                                     1\n",
       "Completed a condo association two-part education and budgeting training with people's bank set up by affiliate. completion 8/28/2020     1\n",
       "Budgeting, additional raft applications, snap, job coaching                                                                              1\n",
       "Borrower offered relief if covid related delinquency                                                                                     1\n",
       "Wellness checks & guidance on repayment plans & potential resources                                                                      1\n",
       "Discussion with family services and ceo about getting back on track                                                                      1\n",
       "Provided counseling and resources                                                                                                        1\n",
       "Counseling                                                                                                                               1\n",
       "                                                                                                                                         1\n",
       "Supported homeowners in process of acquiring food stamps, unemployment, and emergency assistance                                         1\n",
       "Cares                                                                                                                                    1\n",
       "Fec                                                                                                                                      1\n",
       "Discussion with family services about paying escrow during forbearance period                                                            1\n",
       "Name: Description of other training received, dtype: int64"
      ]
     },
     "execution_count": 47,
     "metadata": {},
     "output_type": "execute_result"
    }
   ],
   "source": [
    "from matplotlib.pyplot import figure\n",
    "othertraining = mortgagerelief['Description of other training received']\n",
    "othertraining = othertraining.str.capitalize()\n",
    "othertraining.value_counts()\n",
    "# figure(figsize=(8, 6), dpi=80)\n",
    "# othertraining.plot.barh()\n",
    "# plt.title(\"Most Common Other Services Provided by HFH Affiliates\")\n",
    "# plt.ylabel(\"Service Description\")\n",
    "# plt.xlabel(\"Count\")\n",
    "'Supportive services offered by affiliated organizations include education programs, resources for energy assistance, information covid/emergency relief funds, wellness checks, informal counselling, and mentorship. These vary by affiliate.'"
   ]
  },
  {
   "cell_type": "markdown",
   "metadata": {},
   "source": [
    "### Any differences observed in the supportive services provided and the ability for the homeowner to remain in their home over time?\n"
   ]
  },
  {
   "cell_type": "code",
   "execution_count": 54,
   "metadata": {},
   "outputs": [
    {
     "data": {
      "text/plain": [
       "Yes      917\n",
       "No        17\n",
       " yes       4\n",
       "Name: 12-month report Resident Loan number-referenced) currently residing in home?, dtype: int64"
      ]
     },
     "execution_count": 54,
     "metadata": {},
     "output_type": "execute_result"
    }
   ],
   "source": [
    "from matplotlib.pyplot import figure\n",
    "stayinhome = mortgagerelief.loc[:, ['Description of other training received', '12-month report Resident Loan number-referenced) currently residing in home?']]\n",
    "stayinhome['12-month report Resident Loan number-referenced) currently residing in home?'] = stayinhome['12-month report Resident Loan number-referenced) currently residing in home?'].str.capitalize()\n",
    "stayinhome['12-month report Resident Loan number-referenced) currently residing in home?'].value_counts()\n",
    "# newcol = []\n",
    "# for item in stayinhome['12-month report Resident Loan number-referenced) currently residing in home?']:\n",
    "#     if (item == 'Yes'):\n",
    "#         newcol.append(1) \n",
    "#     else:\n",
    "#         newcol.append(0)\n",
    "# stayinhome['Residing'] = newcol\n",
    "# stayinhome[stayinhome['Residing']==0].dropna()\n",
    "# stayinhome = stayinhome.groupby(by='Description of other training received').mean()\n",
    "# figure(figsize=(80, 60), dpi=80)\n",
    "# stayinhome.plot.bar()\n",
    "# plt.title(\"% of Homeowners Residing in Home after 12 Months vs. Type of Support Received\")\n",
    "# plt.xlabel(\"Service Received\", labelpad=100)\n",
    "# plt.ylabel(\"% of Homeowners Residing in Home\")"
   ]
  },
  {
   "cell_type": "markdown",
   "metadata": {},
   "source": [
    "### Any differences observed in the supportive services provided and the prevention of foreclosures?"
   ]
  },
  {
   "cell_type": "code",
   "execution_count": 58,
   "metadata": {},
   "outputs": [
    {
     "data": {
      "text/html": [
       "<div>\n",
       "<style scoped>\n",
       "    .dataframe tbody tr th:only-of-type {\n",
       "        vertical-align: middle;\n",
       "    }\n",
       "\n",
       "    .dataframe tbody tr th {\n",
       "        vertical-align: top;\n",
       "    }\n",
       "\n",
       "    .dataframe thead th {\n",
       "        text-align: right;\n",
       "    }\n",
       "</style>\n",
       "<table border=\"1\" class=\"dataframe\">\n",
       "  <thead>\n",
       "    <tr style=\"text-align: right;\">\n",
       "      <th></th>\n",
       "      <th>Description of other training received</th>\n",
       "      <th>Has this property been foreclosed?</th>\n",
       "    </tr>\n",
       "  </thead>\n",
       "  <tbody>\n",
       "    <tr>\n",
       "      <th>270</th>\n",
       "      <td>No late fees</td>\n",
       "      <td>Yes</td>\n",
       "    </tr>\n",
       "    <tr>\n",
       "      <th>777</th>\n",
       "      <td>NaN</td>\n",
       "      <td>Yes</td>\n",
       "    </tr>\n",
       "    <tr>\n",
       "      <th>1034</th>\n",
       "      <td>No late fees</td>\n",
       "      <td>Yes</td>\n",
       "    </tr>\n",
       "    <tr>\n",
       "      <th>1081</th>\n",
       "      <td>NaN</td>\n",
       "      <td>Yes</td>\n",
       "    </tr>\n",
       "  </tbody>\n",
       "</table>\n",
       "</div>"
      ],
      "text/plain": [
       "     Description of other training received Has this property been foreclosed?\n",
       "270                            No late fees                                Yes\n",
       "777                                     NaN                                Yes\n",
       "1034                           No late fees                                Yes\n",
       "1081                                    NaN                                Yes"
      ]
     },
     "execution_count": 58,
     "metadata": {},
     "output_type": "execute_result"
    }
   ],
   "source": [
    "from matplotlib.pyplot import figure\n",
    "forclosed = mortgagerelief.loc[:, ['Description of other training received', 'Has this property been foreclosed?']]\n",
    "forclosed[forclosed['Has this property been foreclosed?']=='Yes']\n",
    "# fcol = []\n",
    "# for item in forclosed['Has this property been foreclosed?']:\n",
    "#     if (item == 'Yes'):\n",
    "#         fcol.append(1) \n",
    "#     else:\n",
    "#         fcol.append(0)\n",
    "# forclosed['Foreclosed'] = fcol\n",
    "# forclosed = forclosed.groupby(by='Description of other training received').sum()\n",
    "# figure(figsize=(80, 60), dpi=80)\n",
    "# forclosed.plot.bar()\n",
    "# plt.title(\"Number of Properties Forclosed vs. Type of Support Received\")\n",
    "# plt.xlabel(\"Service Received\", labelpad=100)\n",
    "# plt.ylabel(\"Number of Homes Forclosed\")"
   ]
  },
  {
   "cell_type": "markdown",
   "metadata": {},
   "source": [
    "### What type of referrals were observed (columns AB-AF, BH-BN, CB-CF)"
   ]
  },
  {
   "cell_type": "code",
   "execution_count": 68,
   "metadata": {},
   "outputs": [
    {
     "name": "stdout",
     "output_type": "stream",
     "text": [
      "Other Mortgage relief programs                                                                                                                                                          107\n",
      "IHDA                                                                                                                                                                                     38\n",
      "Utilities                                                                                                                                                                                35\n",
      "Tampa Bay 211, unemployment and Pinellas Opportunity Council                                                                                                                             27\n",
      "credit counseling                                                                                                                                                                        26\n",
      "additional financial assistance                                                                                                                                                          26\n",
      "Cobb County - Homefree USA                                                                                                                                                               24\n",
      "Community Resources -financial, food, employment                                                                                                                                         22\n",
      "referred to outsourced financial counseling                                                                                                                                              21\n",
      "211, Food Bank                                                                                                                                                                           20\n",
      "Referral to City of Rockford Community Action Agency                                                                                                                                     17\n",
      "Informed homeowner of all local and state assistance that might be available to Iowa residents in need due to COVID-19 pandemic.                                                         14\n",
      "Credit Counseling                                                                                                                                                                        14\n",
      "Mortgage Support                                                                                                                                                                         14\n",
      "St. Vincent de Paul, food pantries, Energy Svcs Inc                                                                                                                                      14\n",
      "Thrivent grant                                                                                                                                                                           13\n",
      "Cares                                                                                                                                                                                    12\n",
      "Cares, NHDC, Cathlolic Charities                                                                                                                                                         12\n",
      "Cares Act                                                                                                                                                                                12\n",
      "circles                                                                                                                                                                                  12\n",
      "unemployment benefits and services in the community                                                                                                                                      10\n",
      "provided a list of additional resources in the community and assted with applying for unemployment                                                                                       10\n",
      "FEC                                                                                                                                                                                       9\n",
      "Other Mortgage Assistance & Job Search                                                                                                                                                    9\n",
      "VHDA                                                                                                                                                                                      9\n",
      "No                                                                                                                                                                                        8\n",
      "Borrower referred to community agency for assistance with delinquent mortgage                                                                                                             8\n",
      "referrals to multiple sources through email, mail, newletter, phone calls                                                                                                                 8\n",
      " N/A                                                                                                                                                                                      8\n",
      "Food                                                                                                                                                                                      8\n",
      "CHAPS                                                                                                                                                                                     8\n",
      "yes                                                                                                                                                                                       8\n",
      "Workforce Solutions & Unemployment Office                                                                                                                                                 7\n",
      "area food pantries                                                                                                                                                                        6\n",
      "Referral to IHDA for EMA                                                                                                                                                                  6\n",
      "Notification received for referral resources to Central MA Housing Alliance (CMHA) to apply for ERMA (Emergency Rent/Mortgage Assistance) program -- sent July 13, 2020                   6\n",
      "CISC & Food Bank                                                                                                                                                                          6\n",
      "didn't qualify for any other assistance                                                                                                                                                   6\n",
      "Mortgage Assistance                                                                                                                                                                       6\n",
      "Salvation Army Mortgage assistance                                                                                                                                                        6\n",
      "Local program help with foreclosure                                                                                                                                                       5\n",
      "Job Fairs                                                                                                                                                                                 5\n",
      "VH                                                                                                                                                                                        5\n",
      "credit counceling                                                                                                                                                                         5\n",
      " Informed homeowner of all local and state assistance that might be available to Iowa residents in need due to COVID-19 pandemic.                                                         4\n",
      "211, Food Bank, School supplies                                                                                                                                                           4\n",
      "Refer to Stand By me for one on one credit counseling                                                                                                                                     4\n",
      "United Way funds                                                                                                                                                                          4\n",
      "local agencies                                                                                                                                                                            4\n",
      "Emergency Assistance                                                                                                                                                                      4\n",
      "United Way, Salvation Army Mortgage assistance                                                                                                                                            4\n",
      "Job Fairs                                                                                                                                                                                 4\n",
      "Mortgage assistance                                                                                                                                                                       4\n",
      "Connected homeowner to Great Lakes Community Action Partnership                                                                                                                           3\n",
      "Mortgage relief                                                                                                                                                                           3\n",
      "Energy Assistance, employment, credit service                                                                                                                                             3\n",
      "Food security                                                                                                                                                                             3\n",
      "utility relief                                                                                                                                                                            3\n",
      "county                                                                                                                                                                                    3\n",
      "POC                                                                                                                                                                                       3\n",
      "Phone                                                                                                                                                                                     3\n",
      "Mortgage relief fund                                                                                                                                                                      3\n",
      "IHDA/RPC                                                                                                                                                                                  3\n",
      "CARES                                                                                                                                                                                     3\n",
      "Associated Charities/ Christian Clearing house                                                                                                                                            2\n",
      "Food assistances, forebearance options                                                                                                                                                    2\n",
      "Workforce Solutions & Food Bank                                                                                                                                                           2\n",
      "SC Stay                                                                                                                                                                                   2\n",
      "Mail                                                                                                                                                                                      2\n",
      "Insurance                                                                                                                                                                                 2\n",
      "Mortgage Assistance through Greenville County                                                                                                                                             2\n",
      "social services, cap                                                                                                                                                                      2\n",
      "Working with Inclusa case manager (homeowner is disabled)                                                                                                                                 2\n",
      "Catholic Charities                                                                                                                                                                        2\n",
      "Financial literacy through adult ed                                                                                                                                                       2\n",
      "Assistance with mortgage payments  local community action agency                                                                                                                          2\n",
      "bix loans                                                                                                                                                                                 2\n",
      "Utilty assistance                                                                                                                                                                         2\n",
      "Butte 211, community resources                                                                                                                                                            2\n",
      "CSET                                                                                                                                                                                      2\n",
      "hairdressers assn                                                                                                                                                                         2\n",
      "Aging & Disability Resource Center for options regarding disabled  spouse and child                                                                                                       2\n",
      "hairdresser assn                                                                                                                                                                          2\n",
      "United Way                                                                                                                                                                                2\n",
      "healthcare                                                                                                                                                                                2\n",
      "CAC/hope house                                                                                                                                                                            2\n",
      "grants                                                                                                                                                                                    2\n",
      "Co SS                                                                                                                                                                                     2\n",
      "sending mortgage assistance flyer through Hillsborough County                                                                                                                             2\n",
      "Vet sv Vet                                                                                                                                                                                2\n",
      "County funds                                                                                                                                                                              2\n",
      "Raft, follow up                                                                                                                                                                           2\n",
      "Mortgage Asistance                                                                                                                                                                        2\n",
      "Community Capital Funds                                                                                                                                                                   2\n",
      "LSS                                                                                                                                                                                       2\n",
      "GLCAP                                                                                                                                                                                     2\n",
      "FEC/TAP                                                                                                                                                                                   2\n",
      "Food Pantries                                                                                                                                                                             2\n",
      "                                                                                                                                                                                          1\n",
      "raft                                                                                                                                                                                      1\n",
      "Food/Legal                                                                                                                                                                                1\n",
      "United Way, Community Capital Funds                                                                                                                                                       1\n",
      "Utility Assistance                                                                                                                                                                        1\n",
      "Food                                                                                                                                                                                      1\n",
      "Food, utilities                                                                                                                                                                           1\n",
      "Money management counselor                                                                                                                                                                1\n",
      "Payment Assistance                                                                                                                                                                        1\n",
      "County funds                                                                                                                                                                              1\n",
      "RAFT,                                                                                                                                                                                     1\n",
      "FHLB / Inwood Bank                                                                                                                                                                        1\n",
      "FES/TAP                                                                                                                                                                                   1\n",
      "Energy Assistance                                                                                                                                                                         1\n",
      "utility assistance, unemployment officeunemployment office                                                                                                                                1\n",
      "AmeriNat                                                                                                                                                                                  1\n",
      "assisted homowner with application to county for assistance                                                                                                                               1\n",
      "Finacial                                                                                                                                                                                  1\n",
      "GCRA for Escrow                                                                                                                                                                           1\n",
      "Utility Assitance and homeownership counseling center                                                                                                                                     1\n",
      "Food access                                                                                                                                                                               1\n",
      "referred for counseling                                                                                                                                                                   1\n",
      "Fuel/Food                                                                                                                                                                                 1\n",
      "Snap, Helth services, VITA                                                                                                                                                                1\n",
      "Educational Assistance - Broadband                                                                                                                                                        1\n",
      "CSET (a community organization that provided mortgage assistance)                                                                                                                         1\n",
      "to hairdresser group                                                                                                                                                                      1\n",
      "application for RAFT                                                                                                                                                                      1\n",
      "to hairdrresser groupyes                                                                                                                                                                  1\n",
      "legal social security                                                                                                                                                                     1\n",
      "Isles Inc.                                                                                                                                                                                1\n",
      "GCRA                                                                                                                                                                                      1\n",
      "utility relief, biz mgmt                                                                                                                                                                  1\n",
      "Town Square                                                                                                                                                                               1\n",
      "Energy Assistance, child care referal, credit service                                                                                                                                     1\n",
      "Notification received for referral resources to Central MA Housing Alliance (CMHA) to apply for ERMA (Emergency Rent/Mortgage Assistance) program                                         1\n",
      "To utility assitance and COVID-19 Mortgage relief funds                                                                                                                                   1\n",
      "Fuel and food assistance                                                                                                                                                                  1\n",
      "Educational Advocacy                                                                                                                                                                      1\n",
      "fuel assistance/ food pantry                                                                                                                                                              1\n",
      "Financial Empowerment Center of Roanoke Valley                                                                                                                                            1\n",
      "Financial Empowerment Center, Roanoke City                                                                                                                                                1\n",
      "COVID-19 Mortgage Relief funds                                                                                                                                                            1\n",
      "FISC-Financial Counseling                                                                                                                                                                 1\n",
      "county                                                                                                                                                                                    1\n",
      "Local County & State Mortgage Relief Resources                                                                                                                                            1\n",
      "RAFT, SNAP                                                                                                                                                                                1\n",
      "BK-13                                                                                                                                                                                     1\n",
      "RAFT, legal, Mental health services                                                                                                                                                       1\n",
      "Elder services                                                                                                                                                                            1\n",
      "IHDA                                                                                                                                                                                      1\n",
      "Utility assistance                                                                                                                                                                        1\n",
      "Utility assitance and COVID Relief                                                                                                                                                        1\n",
      "Ga Dept of Labor                                                                                                                                                                          1\n",
      "Notification received for referral resources to Central MA Housing Alliance (CMHA) to apply for ERMA (Emergency Rent/Mortgage Assistance) program - Sent July - November each month.      1\n",
      "Unemployment Office                                                                                                                                                                       1\n",
      "Utilities, food                                                                                                                                                                           1\n",
      "Internet for Homeschooling                                                                                                                                                                1\n",
      "Veterans services                                                                                                                                                                         1\n",
      "N/a                                                                                                                                                                                       1\n",
      "HHF                                                                                                                                                                                       1\n",
      "county funds                                                                                                                                                                              1\n",
      "Catholic Char                                                                                                                                                                             1\n",
      "utility assistance, unemployment office                                                                                                                                                   1\n",
      "Three Rivers for utility assistance                                                                                                                                                       1\n",
      "Jersey Central Housing                                                                                                                                                                    1\n",
      "Energy Assistance, credit service                                                                                                                                                         1\n",
      "Borrower referred to community agencies for assistance with delinquent mortgage & utilities                                                                                               1\n",
      "budgeting                                                                                                                                                                                 1\n",
      "budging                                                                                                                                                                                   1\n",
      "dtype: int64\n"
     ]
    }
   ],
   "source": [
    "referral = mortgagerelief['Describe referral']\n",
    "referral6 = mortgagerelief['6-month report\\nDescribe referral']\n",
    "referral12 = mortgagerelief['12-month report\\nDescribe referral']\n",
    "\n",
    "allreferral = referral.append(referral6)\n",
    "allreferral = allreferral.append(referral12)\n",
    "allreferral = allreferral.dropna().replace({'IDHA':'State Housing Development Authority','Local County  & State Mortgage Relief Resources':'Other Mortgage relief programs'})\n",
    "allreferral = allreferral.replace({'Other Mortgage relief org':'Other Mortgage relief programs','Other agencies providing mortgage relief':'Other Mortgage relief programs'})\n",
    "allreferral = allreferral.replace({'Tampa Bay 211, unemployment and Pinellas Opportunity Council':'211'})\n",
    "allreferral = allreferral.value_counts().drop('as needed')\n",
    "# allreferral = allreferral.value_counts().head(10)\n",
    "# allreferral.plot.barh()\n",
    "# plt.title(\"10 Most Frequent Types of Referrals Observed\")\n",
    "# plt.ylabel(\"Referral to Other Agency\")\n",
    "# plt.xlabel(\"Count\")\n",
    "pd.set_option(\"display.max_rows\", None, \"display.max_columns\", None)\n",
    "print(allreferral)\n",
    "## additional mortgage relief programs, 211, food banks, credit counseling, state housing development authority, unemployment/job search"
   ]
  },
  {
   "cell_type": "code",
   "execution_count": null,
   "metadata": {},
   "outputs": [],
   "source": []
  },
  {
   "cell_type": "code",
   "execution_count": null,
   "metadata": {},
   "outputs": [],
   "source": []
  },
  {
   "cell_type": "code",
   "execution_count": null,
   "metadata": {},
   "outputs": [],
   "source": []
  },
  {
   "cell_type": "code",
   "execution_count": null,
   "metadata": {},
   "outputs": [],
   "source": []
  },
  {
   "cell_type": "code",
   "execution_count": null,
   "metadata": {},
   "outputs": [],
   "source": []
  },
  {
   "cell_type": "code",
   "execution_count": null,
   "metadata": {},
   "outputs": [],
   "source": []
  },
  {
   "cell_type": "code",
   "execution_count": null,
   "metadata": {},
   "outputs": [],
   "source": []
  },
  {
   "cell_type": "code",
   "execution_count": null,
   "metadata": {},
   "outputs": [],
   "source": []
  },
  {
   "cell_type": "code",
   "execution_count": null,
   "metadata": {},
   "outputs": [],
   "source": []
  },
  {
   "cell_type": "code",
   "execution_count": null,
   "metadata": {},
   "outputs": [],
   "source": []
  },
  {
   "cell_type": "code",
   "execution_count": null,
   "metadata": {},
   "outputs": [],
   "source": []
  },
  {
   "cell_type": "code",
   "execution_count": null,
   "metadata": {},
   "outputs": [],
   "source": []
  },
  {
   "cell_type": "code",
   "execution_count": null,
   "metadata": {},
   "outputs": [],
   "source": []
  }
 ],
 "metadata": {
  "kernelspec": {
   "display_name": "Python 3",
   "language": "python",
   "name": "python3"
  },
  "language_info": {
   "codemirror_mode": {
    "name": "ipython",
    "version": 3
   },
   "file_extension": ".py",
   "mimetype": "text/x-python",
   "name": "python",
   "nbconvert_exporter": "python",
   "pygments_lexer": "ipython3",
   "version": "3.8.5"
  }
 },
 "nbformat": 4,
 "nbformat_minor": 4
}
