{
 "cells": [
  {
   "cell_type": "code",
   "execution_count": 233,
   "metadata": {},
   "outputs": [],
   "source": [
    "## import packages\n",
    "import pandas as pd\n",
    "import numpy as np\n",
    "import seaborn as sns\n",
    "import matplotlib.pyplot as plt\n",
    "import sqlalchemy\n",
    "\n",
    "import matplotlib.font_manager\n",
    "from IPython.core.display import HTML\n",
    "\n",
    "def make_html(fontname):\n",
    "    return \"<p>{font}: <span style='font-family:{font}; font-size: 24px;'>{font}</p>\".format(font=fontname)\n",
    "\n",
    "code = \"\\n\".join([make_html(font) for font in sorted(set([f.name for f in matplotlib.font_manager.fontManager.ttflist]))])\n",
    "\n",
    "HTML(\"<div style='column-count: 2;'>{}</div>\".format(code))\n",
    "\n",
    "plt.rcParams.update({'font.family':'sans-serif'})"
   ]
  },
  {
   "cell_type": "code",
   "execution_count": 234,
   "metadata": {},
   "outputs": [
    {
     "data": {
      "text/html": [
       "<div>\n",
       "<style scoped>\n",
       "    .dataframe tbody tr th:only-of-type {\n",
       "        vertical-align: middle;\n",
       "    }\n",
       "\n",
       "    .dataframe tbody tr th {\n",
       "        vertical-align: top;\n",
       "    }\n",
       "\n",
       "    .dataframe thead th {\n",
       "        text-align: right;\n",
       "    }\n",
       "</style>\n",
       "<table border=\"1\" class=\"dataframe\">\n",
       "  <thead>\n",
       "    <tr style=\"text-align: right;\">\n",
       "      <th></th>\n",
       "      <th>Affiliate</th>\n",
       "      <th>ID</th>\n",
       "      <th>Loan No</th>\n",
       "      <th>Street Address\\n(ex: 1234 Five Lane)</th>\n",
       "      <th>City</th>\n",
       "      <th>State Abbreviation</th>\n",
       "      <th>Zip</th>\n",
       "      <th>Sales Price</th>\n",
       "      <th>Closing Date\\n(mm/yyyy)</th>\n",
       "      <th>Term (Months)</th>\n",
       "      <th>...</th>\n",
       "      <th>12-month report\\nFinancial counseling provided during period of mortgage relief</th>\n",
       "      <th>12-month report\\nOther training/support received from HFH?</th>\n",
       "      <th>12-month report\\nDescription of other training received</th>\n",
       "      <th>12-month report\\nReferrals to other agencies</th>\n",
       "      <th>12-month report\\nDescribe referral</th>\n",
       "      <th>12-month report Resident Loan number-referenced) currently residing in home?</th>\n",
       "      <th>12-month report If resident no longer residing in home, please explain</th>\n",
       "      <th>12-month report-additional details on titleholders residing in home</th>\n",
       "      <th>Note</th>\n",
       "      <th>Funds</th>\n",
       "    </tr>\n",
       "  </thead>\n",
       "  <tbody>\n",
       "    <tr>\n",
       "      <th>0</th>\n",
       "      <td>Aitkin County HFH  (MN)</td>\n",
       "      <td>1</td>\n",
       "      <td>78001567</td>\n",
       "      <td>NaN</td>\n",
       "      <td>Aitkin</td>\n",
       "      <td>MN</td>\n",
       "      <td>56431</td>\n",
       "      <td>$ 88,800.00</td>\n",
       "      <td>9/27/2013</td>\n",
       "      <td>240.0</td>\n",
       "      <td>...</td>\n",
       "      <td>Yes</td>\n",
       "      <td>No</td>\n",
       "      <td>local banker/mentor</td>\n",
       "      <td>No</td>\n",
       "      <td>NaN</td>\n",
       "      <td>Yes</td>\n",
       "      <td>NaN</td>\n",
       "      <td>NaN</td>\n",
       "      <td>NaN</td>\n",
       "      <td>Thrivent</td>\n",
       "    </tr>\n",
       "  </tbody>\n",
       "</table>\n",
       "<p>1 rows × 89 columns</p>\n",
       "</div>"
      ],
      "text/plain": [
       "                 Affiliate  ID   Loan No  \\\n",
       "0  Aitkin County HFH  (MN)   1  78001567   \n",
       "\n",
       "   Street Address\\n(ex: 1234 Five Lane)    City State Abbreviation    Zip  \\\n",
       "0                                   NaN  Aitkin                 MN  56431   \n",
       "\n",
       "    Sales Price  Closing Date\\n(mm/yyyy)  Term (Months)  ...  \\\n",
       "0   $ 88,800.00                9/27/2013          240.0  ...   \n",
       "\n",
       "  12-month report\\nFinancial counseling provided during period of mortgage relief  \\\n",
       "0                                                Yes                                \n",
       "\n",
       "  12-month report\\nOther training/support received from HFH?  \\\n",
       "0                                                 No           \n",
       "\n",
       "  12-month report\\nDescription of other training received  \\\n",
       "0                                local banker/mentor        \n",
       "\n",
       "  12-month report\\nReferrals to other agencies  \\\n",
       "0                                           No   \n",
       "\n",
       "  12-month report\\nDescribe referral  \\\n",
       "0                                NaN   \n",
       "\n",
       "  12-month report Resident Loan number-referenced) currently residing in home?  \\\n",
       "0                                                Yes                             \n",
       "\n",
       "  12-month report If resident no longer residing in home, please explain  \\\n",
       "0                                                NaN                       \n",
       "\n",
       "  12-month report-additional details on titleholders residing in home Note  \\\n",
       "0                                                NaN                   NaN   \n",
       "\n",
       "      Funds  \n",
       "0  Thrivent  \n",
       "\n",
       "[1 rows x 89 columns]"
      ]
     },
     "execution_count": 234,
     "metadata": {},
     "output_type": "execute_result"
    }
   ],
   "source": [
    "## import table from HFHI\n",
    "mortgagerelief = pd.read_csv('MRData.csv')\n",
    "mortgagerelief.head(1)"
   ]
  },
  {
   "cell_type": "code",
   "execution_count": 235,
   "metadata": {},
   "outputs": [
    {
     "data": {
      "image/png": "[encoded data removed]",
      "text/plain": [
       "<Figure size 432x288 with 1 Axes>"
      ]
     },
     "metadata": {
      "needs_background": "light"
     },
     "output_type": "display_data"
    }
   ],
   "source": [
    "#plot gender data\n",
    "genders = mortgagerelief['Title Holder Gender'].str.capitalize().value_counts().sort_values()\n",
    "# takes gender column, standardizes data, groupby\n",
    "genders = genders/sum(genders)*100\n",
    "# make genders into proportions\n",
    "genders.plot.barh(color=['#2CB3F2', '#0060BA', '#43B538', '#EB34C0', '#A3007E', '#FF6E0D'])\n",
    "# create horizontal bar plot with different colors\n",
    "plt.title('Gender of Title Holder');\n",
    "#len(mortgagerelief['Title Holder Gender'])-len(mortgagerelief['Title Holder Gender'].dropna())    "
   ]
  },
  {
   "cell_type": "code",
   "execution_count": 241,
   "metadata": {},
   "outputs": [
    {
     "data": {
      "image/png": "[encoded data removed]",
      "text/plain": [
       "<Figure size 432x288 with 1 Axes>"
      ]
     },
     "metadata": {
      "needs_background": "light"
     },
     "output_type": "display_data"
    }
   ],
   "source": [
    "races = mortgagerelief[['Asian: Race/Ethnicity title holders','Black or African American: Race/Ethnicity of title holders','White: Race/Ethnicity of title holders',\n",
    "       'Native Hawaiian/Other Pacific Islander: Race/Ethnicity of title holders',\n",
    "       'American Indian or Alaska Native: Race/Ethnicity of title holders',\n",
    "       'Hispanic/Latino: Race/Ethnicity of title holders',\n",
    "       \"Don't Know or Don't want to Answer: Race/Ethnicity of title holders\"]]\n",
    "races = races.rename(columns={'Asian: Race/Ethnicity title holders': 'Asian', 'Black or African American: Race/Ethnicity of title holders': 'Black or African American', 'White: Race/Ethnicity of title holders':'White',\n",
    "                             'Native Hawaiian/Other Pacific Islander: Race/Ethnicity of title holders': 'Native Hawaiian/Other Pacific Islander', 'American Indian or Alaska Native: Race/Ethnicity of title holders':'American Indian or Alaska Native',\n",
    "                             'Hispanic/Latino: Race/Ethnicity of title holders':'Hispanic/Latino', \"Don't Know or Don't want to Answer: Race/Ethnicity of title holders\": \"Don't Know or Don't Want to Answer\"})\n",
    "races = races.fillna('No') \n",
    "races = races.replace({'Yes':1,'No':0, 'yes':1, 'no':0, \"YES\": 1, \"NO\": 0, \" Yes \": 1, \"*\": 0, \"X\": 1})\n",
    "races = races.sum(axis = 0) #add up total number of \n",
    "noAnswer = races[\"Don't Know or Don't Want to Answer\"] #number of people who answered no race\n",
    "races1 = races.drop(\"Don't Know or Don't Want to Answer\") #we're not using data of people who answered no race\n",
    "races1 = races1 / sum(races1) * 100\n",
    "races1 = races1.sort_values()\n",
    "races1.plot.barh(color=['#FF6E0D','#A3007E','#EB34C0','#2CB3F2','#0060BA','#43B538'])\n",
    "plt.title('Race/Ethnicity of Title Holder');"
   ]
  },
  {
   "cell_type": "code",
   "execution_count": 259,
   "metadata": {},
   "outputs": [
    {
     "data": {
      "text/plain": [
       "Text(0.5, 1.0, 'Number of People Residing in the Household')"
      ]
     },
     "execution_count": 259,
     "metadata": {},
     "output_type": "execute_result"
    },
    {
     "data": {
      "image/png": "[encoded data removed]",
      "text/plain": [
       "<Figure size 432x288 with 1 Axes>"
      ]
     },
     "metadata": {
      "needs_background": "light"
     },
     "output_type": "display_data"
    }
   ],
   "source": [
    "# Total # of people who reside in the household\n",
    "numppl = mortgagerelief['Total # of people living in the household'].dropna()\n",
    "#numpplused = numppl.value_counts().drop(['Unkown','Unknown','na'])\n",
    "#numppl[pd.to_numeric(numppl['id'], errors='coerce').notnull()]\n",
    "numppl = numppl[pd.to_numeric(numppl, errors='coerce').notnull()].astype(int).value_counts().sort_index(ascending=True).drop(0)\n",
    "numppl = numppl/sum(numppl)*100\n",
    "numppl.plot.bar(color='#0060BA')\n",
    "plt.title('Number of People Residing in the Household')"
   ]
  },
  {
   "cell_type": "code",
   "execution_count": 226,
   "metadata": {},
   "outputs": [
    {
     "data": {
      "text/plain": [
       "3.2319018404907975"
      ]
     },
     "execution_count": 226,
     "metadata": {},
     "output_type": "execute_result"
    }
   ],
   "source": [
    "numppl = mortgagerelief['Total # of people living in the household'].dropna()\n",
    "numppl = numppl[pd.to_numeric(numppl, errors='coerce').notnull()].astype(int)\n",
    "numppl.mean()*len(numppl)/(len(numppl)-3)"
   ]
  },
  {
   "cell_type": "code",
   "execution_count": 168,
   "metadata": {},
   "outputs": [
    {
     "data": {
      "text/plain": [
       "<AxesSubplot:>"
      ]
     },
     "execution_count": 168,
     "metadata": {},
     "output_type": "execute_result"
    },
    {
     "data": {
      "image/png": "[encoded data removed]",
      "text/plain": [
       "<Figure size 432x288 with 1 Axes>"
      ]
     },
     "metadata": {
      "needs_background": "light"
     },
     "output_type": "display_data"
    }
   ],
   "source": [
    "## number of individuals with a disability who reside in the household\n",
    "numdisabled = mortgagerelief['# in HH with disability'].fillna(0) #.astype(int)\n",
    "numdisabled = numdisabled[pd.to_numeric(numdisabled, errors='coerce').notnull()].astype(int).value_counts().sort_index(ascending=False)\n",
    "numdisabled = numdisabled/sum(numdisabled)*100\n",
    "numdisabled.plot.barh(color=['#2CB3F2', '#0060BA', '#43B538', '#EB34C0', '#A3007E', '#FF6E0D'])"
   ]
  },
  {
   "cell_type": "code",
   "execution_count": 211,
   "metadata": {},
   "outputs": [
    {
     "data": {
      "text/plain": [
       "268.5"
      ]
     },
     "execution_count": 211,
     "metadata": {},
     "output_type": "execute_result"
    }
   ],
   "source": [
    "## number of individuals with a disability who reside in the household\n",
    "numdisabled = mortgagerelief['# in HH with disability'].fillna(0) #.astype(int)\n",
    "numdisabled = numdisabled[pd.to_numeric(numdisabled, errors='coerce').notnull()].astype(int).value_counts().sort_index(ascending=False)\n",
    "np.mean(numdisabled)"
   ]
  },
  {
   "cell_type": "code",
   "execution_count": 169,
   "metadata": {},
   "outputs": [
    {
     "data": {
      "text/plain": [
       "<AxesSubplot:>"
      ]
     },
     "execution_count": 169,
     "metadata": {},
     "output_type": "execute_result"
    },
    {
     "data": {
      "image/png": "[encoded data removed]",
      "text/plain": [
       "<Figure size 432x288 with 1 Axes>"
      ]
     },
     "metadata": {
      "needs_background": "light"
     },
     "output_type": "display_data"
    }
   ],
   "source": [
    "## number of individuals who served or are currently serving who reside in the household\n",
    "numserved = mortgagerelief['# in HH  served or is currently serving in the military?'].fillna(0)\n",
    "numserved = numserved[pd.to_numeric(numserved, errors='coerce').notnull()].astype(int).value_counts().sort_index(ascending=False)\n",
    "numserved = numserved/sum(numserved)*100\n",
    "numserved.plot.barh(color=['#2CB3F2', '#0060BA', '#43B538', '#EB34C0', '#A3007E', '#FF6E0D'])"
   ]
  },
  {
   "cell_type": "code",
   "execution_count": 170,
   "metadata": {},
   "outputs": [
    {
     "data": {
      "text/plain": [
       "<AxesSubplot:>"
      ]
     },
     "execution_count": 170,
     "metadata": {},
     "output_type": "execute_result"
    },
    {
     "data": {
      "image/png": "[encoded data removed]",
      "text/plain": [
       "<Figure size 432x288 with 1 Axes>"
      ]
     },
     "metadata": {
      "needs_background": "light"
     },
     "output_type": "display_data"
    }
   ],
   "source": [
    "## Annual household income\n",
    "income = mortgagerelief['HH income'].dropna().value_counts().drop(['Unkown','$50,000 ', '$41,000 '])\n",
    "income = income/sum(income)*100\n",
    "income = income[['$50,000-74,999','$35,000-49,999','$20,000-34,999','Less than $20,000']]\n",
    "income.plot.barh(color=['#2CB3F2', '#0060BA', '#43B538', '#EB34C0', '#A3007E', '#FF6E0D'])"
   ]
  },
  {
   "cell_type": "code",
   "execution_count": 175,
   "metadata": {},
   "outputs": [
    {
     "data": {
      "text/plain": [
       "<AxesSubplot:>"
      ]
     },
     "execution_count": 175,
     "metadata": {},
     "output_type": "execute_result"
    },
    {
     "data": {
      "image/png": "[encoded data removed]",
      "text/plain": [
       "<Figure size 432x288 with 1 Axes>"
      ]
     },
     "metadata": {
      "needs_background": "light"
     },
     "output_type": "display_data"
    }
   ],
   "source": [
    "## Days delinquent: Baseline\n",
    "baseline = mortgagerelief[['Days Delinquent (reported by the 5th of the month for the previous month)']].dropna().reset_index()\n",
    "baseline= baseline['Days Delinquent (reported by the 5th of the month for the previous month)']\n",
    "baseline = baseline.str.replace(' ','').str.lower().str.replace('+','').str.replace('days','').str.replace('over','') #.reset_index()\n",
    "baseline = baseline.str.split('-').str[0]\n",
    "baselinecat = baseline.copy()\n",
    "\n",
    "for i in np.arange(len(baselinecat)):\n",
    "    if len(baselinecat[i])<= 3:\n",
    "        if int(baselinecat[i]) == 0:\n",
    "            baselinecat[i] = '0 days'\n",
    "        elif int(baselinecat[i]) < 30:\n",
    "            baselinecat[i] = '1-29 days'\n",
    "        elif int(baselinecat[i]) < 60:\n",
    "            baselinecat[i] = '30-59 days'\n",
    "        elif int(baselinecat[i]) < 90:\n",
    "            baselinecat[i] = '60-89 days'\n",
    "        elif int(baselinecat[i]) < 120:\n",
    "            baselinecat[i] = 'Over 90 days'\n",
    "        elif int(baselinecat[i]) < 180:\n",
    "            baselinecat[i] = 'Over 120 days'\n",
    "        elif int(baselinecat[i]) >= 180:\n",
    "            baselinecat[i] = 'Over 180 days'\n",
    "            \n",
    "baselinecat = baselinecat.replace({'2months':'60-89 days','3months':'Over 90 days'}).value_counts()\n",
    "baselinecat = baselinecat[['Over 180 days','Over 120 days','Over 90 days','60-89 days','30-59 days','1-29 days','0 days']]\n",
    "baselinecat = baselinecat/sum(baselinecat)*100\n",
    "baselinecat.plot.barh(color=['#2CB3F2', '#0060BA', '#43B538', '#EB34C0', '#A3007E', '#FF6E0D'])"
   ]
  },
  {
   "cell_type": "code",
   "execution_count": 176,
   "metadata": {},
   "outputs": [
    {
     "data": {
      "text/plain": [
       "Cut hours                                               241\n",
       "Job loss                                                223\n",
       "Furlough                                                104\n",
       "Other                                                    88\n",
       "Compromised health                                       74\n",
       "                                                       ... \n",
       "non-COVID health issues                                   1\n",
       "Was Laid off from job                                     1\n",
       "Wife passed away recently                                 1\n",
       "Tested positive for COVID and has lost hours and pay      1\n",
       "Payment plan                                              1\n",
       "Length: 109, dtype: int64"
      ]
     },
     "execution_count": 176,
     "metadata": {},
     "output_type": "execute_result"
    }
   ],
   "source": [
    "## Why are households delinquent on their mortgage? (baseline)\n",
    "\n",
    "s1 = mortgagerelief['Reasons delinquent']\n",
    "s2 = mortgagerelief['Describe other reasons delinquent']\n",
    "reasons1 = pd.concat([s1, s2]).dropna()\n",
    "reasons1.value_counts()"
   ]
  },
  {
   "cell_type": "code",
   "execution_count": 177,
   "metadata": {},
   "outputs": [
    {
     "data": {
      "text/plain": [
       "<AxesSubplot:>"
      ]
     },
     "execution_count": 177,
     "metadata": {},
     "output_type": "execute_result"
    },
    {
     "data": {
      "image/png": "[encoded data removed]",
      "text/plain": [
       "<Figure size 432x288 with 1 Axes>"
      ]
     },
     "metadata": {
      "needs_background": "light"
     },
     "output_type": "display_data"
    }
   ],
   "source": [
    "## days delinquent: 6 month\n",
    "sixmonth = mortgagerelief[['6-month report \\nDays Delinquent (reported by the 5th of the month for the previous month)']].dropna().reset_index()\n",
    "sixmonth = sixmonth['6-month report \\nDays Delinquent (reported by the 5th of the month for the previous month)']\n",
    "sixmonth = sixmonth.str.replace(' ','').str.lower().str.replace('+','').str.replace('days','').str.replace('over','')\n",
    "sixmonth = sixmonth.str.split('to').str[0].str.split('-').str[0]\n",
    "sixmonth = sixmonth.replace({'lessthan30':29,'30pluscurrentpayment':30,'15daylate':15})\n",
    "sixmonth = sixmonth[pd.to_numeric(sixmonth, errors='coerce').notnull()]\n",
    "#print(sixmonth.to_string())\n",
    "sixmonthcat = sixmonth.copy()\n",
    "\n",
    "for i in sixmonthcat.index:\n",
    "    if int(sixmonthcat[i]) == 0:\n",
    "        sixmonthcat[i] = '0 days'\n",
    "    elif int(sixmonthcat[i]) < 30:\n",
    "        sixmonthcat[i] = '1-29 days'\n",
    "    elif int(sixmonthcat[i]) < 60:\n",
    "        sixmonthcat[i] = '30-59 days'\n",
    "    elif int(sixmonthcat[i]) < 90:\n",
    "        sixmonthcat[i] = '60-89 days'\n",
    "    elif int(sixmonthcat[i]) < 120:\n",
    "        sixmonthcat[i] = 'Over 90 days'\n",
    "    elif int(sixmonthcat[i]) < 180:\n",
    "        sixmonthcat[i] = 'Over 120 days'\n",
    "    elif int(sixmonthcat[i]) >= 180:\n",
    "        sixmonthcat[i] = 'Over 180 days'\n",
    "            \n",
    "sixmonthcat = sixmonthcat.value_counts() \n",
    "sixmonthcat = sixmonthcat[['Over 180 days','Over 120 days','Over 90 days','60-89 days','30-59 days','1-29 days','0 days']]\n",
    "sixmonthcat = sixmonthcat/sum(sixmonthcat)*100\n",
    "sixmonthcat.plot.barh(color=['#2CB3F2', '#0060BA', '#43B538', '#EB34C0', '#A3007E', '#FF6E0D'])"
   ]
  },
  {
   "cell_type": "code",
   "execution_count": 161,
   "metadata": {},
   "outputs": [
    {
     "data": {
      "text/plain": [
       "Cut hours                                             157\n",
       "Other                                                 102\n",
       "Job loss                                              100\n",
       "Compromised health                                     53\n",
       "Furlough                                               45\n",
       "                                                     ... \n",
       "Increase in  HO insurance and navigating resources      1\n",
       "covid, quarantine                                       1\n",
       "Job loss                                                1\n",
       "victim of scam/fraud                                    1\n",
       "COVID                                                   1\n",
       "Length: 84, dtype: int64"
      ]
     },
     "execution_count": 161,
     "metadata": {},
     "output_type": "execute_result"
    }
   ],
   "source": [
    "## Why are households delinquent on their mortgage? (6 month)\n",
    "\n",
    "s1 = mortgagerelief['6-month report\\nReasons delinquent']\n",
    "s2 = mortgagerelief['6-month report\\nDescribe other reasons delinquent']\n",
    "reasons2 = pd.concat([s1, s2]).dropna()\n",
    "reasons2.value_counts()"
   ]
  },
  {
   "cell_type": "code",
   "execution_count": 178,
   "metadata": {},
   "outputs": [
    {
     "data": {
      "text/plain": [
       "<AxesSubplot:>"
      ]
     },
     "execution_count": 178,
     "metadata": {},
     "output_type": "execute_result"
    },
    {
     "data": {
      "image/png": "[encoded data removed]",
      "text/plain": [
       "<Figure size 432x288 with 1 Axes>"
      ]
     },
     "metadata": {
      "needs_background": "light"
     },
     "output_type": "display_data"
    }
   ],
   "source": [
    "## days delinquent: 12 month\n",
    "twelvemonth = mortgagerelief['12-month report \\nDays Delinquent (reported by the 5th of the month for the previous month)']\n",
    "twelvemonth = twelvemonth.str.replace(' ','').str.lower().str.replace('+','').str.replace('days','').str.replace('over','').str.replace('.','')\n",
    "twelvemonth = twelvemonth.str.split('to').str[0].str.split('-').str[0]\n",
    "twelvemonth = twelvemonth.replace({'lessthan30':29,'<30':29,'15late':15,'8month':240})\n",
    "twelvemonth = twelvemonth[pd.to_numeric(twelvemonth, errors='coerce').notnull()].astype(int)\n",
    "twelvemonth.value_counts()\n",
    "\n",
    "twelvemonthmonthcat = twelvemonth.copy()\n",
    "\n",
    "for i in twelvemonthmonthcat.index:\n",
    "    if int(twelvemonthmonthcat[i]) == 0:\n",
    "        twelvemonthmonthcat[i] = '0 days'\n",
    "    elif int(twelvemonthmonthcat[i]) < 30:\n",
    "        twelvemonthmonthcat[i] = '1-29 days'\n",
    "    elif int(twelvemonthmonthcat[i]) < 60:\n",
    "        twelvemonthmonthcat[i] = '30-59 days'\n",
    "    elif int(twelvemonthmonthcat[i]) < 90:\n",
    "        twelvemonthmonthcat[i] = '60-89 days'\n",
    "    elif int(twelvemonthmonthcat[i]) < 120:\n",
    "        twelvemonthmonthcat[i] = 'Over 90 days'\n",
    "    elif int(twelvemonthmonthcat[i]) < 180:\n",
    "        twelvemonthmonthcat[i] = 'Over 120 days'\n",
    "    elif int(twelvemonthmonthcat[i]) >= 180:\n",
    "        twelvemonthmonthcat[i] = 'Over 180 days'\n",
    "            \n",
    "twelvemonthmonthcat = twelvemonthmonthcat.value_counts() \n",
    "twelvemonthmonthcat = twelvemonthmonthcat[['Over 180 days','Over 120 days','Over 90 days','60-89 days','30-59 days','1-29 days','0 days']]\n",
    "twelvemonthmonthcat = twelvemonthmonthcat/sum(twelvemonthmonthcat)*100\n",
    "twelvemonthmonthcat.plot.barh(color=['#2CB3F2', '#0060BA', '#43B538', '#EB34C0', '#A3007E', '#FF6E0D'])"
   ]
  },
  {
   "cell_type": "code",
   "execution_count": 164,
   "metadata": {},
   "outputs": [
    {
     "data": {
      "text/plain": [
       "Cut hours                85\n",
       "Other                    80\n",
       "Job loss                 56\n",
       "Compromised health       45\n",
       "Furlough                 25\n",
       "                         ..\n",
       "repayment plan            1\n",
       "Still on Payment plan     1\n",
       "cut hours                 1\n",
       "Property Sold             1\n",
       "Compromised Health        1\n",
       "Length: 73, dtype: int64"
      ]
     },
     "execution_count": 164,
     "metadata": {},
     "output_type": "execute_result"
    }
   ],
   "source": [
    "## Why are households delinquent on their mortgage? (6 month)\n",
    "\n",
    "s1 = mortgagerelief['12-month report\\nReasons delinquent']\n",
    "s2 = mortgagerelief['12-month report\\nDescribe other reasons delinquent']\n",
    "reasons3 = pd.concat([s1, s2]).dropna()\n",
    "reasons3.value_counts()"
   ]
  },
  {
   "cell_type": "code",
   "execution_count": null,
   "metadata": {},
   "outputs": [],
   "source": []
  }
 ],
 "metadata": {
  "kernelspec": {
   "display_name": "Python 3",
   "language": "python",
   "name": "python3"
  },
  "language_info": {
   "codemirror_mode": {
    "name": "ipython",
    "version": 3
   },
   "file_extension": ".py",
   "mimetype": "text/x-python",
   "name": "python",
   "nbconvert_exporter": "python",
   "pygments_lexer": "ipython3",
   "version": "3.8.5"
  }
 },
 "nbformat": 4,
 "nbformat_minor": 4
}
