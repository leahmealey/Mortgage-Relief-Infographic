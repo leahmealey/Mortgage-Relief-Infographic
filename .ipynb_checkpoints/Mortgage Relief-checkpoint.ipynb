{
 "cells": [
  {
   "cell_type": "code",
   "execution_count": 2,
   "metadata": {},
   "outputs": [],
   "source": [
    "## import packages\n",
    "import pandas as pd\n",
    "import numpy as np\n",
    "import seaborn as sns\n",
    "import matplotlib.pyplot as plt\n",
    "import sqlalchemy"
   ]
  },
  {
   "cell_type": "code",
   "execution_count": 3,
   "metadata": {},
   "outputs": [
    {
     "data": {
      "text/html": [
       "<div>\n",
       "<style scoped>\n",
       "    .dataframe tbody tr th:only-of-type {\n",
       "        vertical-align: middle;\n",
       "    }\n",
       "\n",
       "    .dataframe tbody tr th {\n",
       "        vertical-align: top;\n",
       "    }\n",
       "\n",
       "    .dataframe thead th {\n",
       "        text-align: right;\n",
       "    }\n",
       "</style>\n",
       "<table border=\"1\" class=\"dataframe\">\n",
       "  <thead>\n",
       "    <tr style=\"text-align: right;\">\n",
       "      <th></th>\n",
       "      <th>Affiliate</th>\n",
       "      <th>ID</th>\n",
       "      <th>Loan No</th>\n",
       "      <th>Street Address\r\n",
       "(ex: 1234 Five Lane)</th>\n",
       "      <th>City</th>\n",
       "      <th>State Abbreviation</th>\n",
       "      <th>Zip</th>\n",
       "      <th>Sales Price</th>\n",
       "      <th>Closing Date\r\n",
       "(mm/yyyy)</th>\n",
       "      <th>Term (Months)</th>\n",
       "      <th>...</th>\n",
       "      <th>12-month report\r\n",
       "Financial counseling provided during period of mortgage relief</th>\n",
       "      <th>12-month report\r\n",
       "Other training/support received from HFH?</th>\n",
       "      <th>12-month report\r\n",
       "Description of other training received</th>\n",
       "      <th>12-month report\r\n",
       "Referrals to other agencies</th>\n",
       "      <th>12-month report\r\n",
       "Describe referral</th>\n",
       "      <th>12-month report Resident Loan number-referenced) currently residing in home?</th>\n",
       "      <th>12-month report If resident no longer residing in home, please explain</th>\n",
       "      <th>12-month report-additional details on titleholders residing in home</th>\n",
       "      <th>Note</th>\n",
       "      <th>Funds</th>\n",
       "    </tr>\n",
       "  </thead>\n",
       "  <tbody>\n",
       "    <tr>\n",
       "      <th>0</th>\n",
       "      <td>Aitkin County HFH  (MN)</td>\n",
       "      <td>1</td>\n",
       "      <td>78001567</td>\n",
       "      <td>NaN</td>\n",
       "      <td>Aitkin</td>\n",
       "      <td>MN</td>\n",
       "      <td>56431</td>\n",
       "      <td>$ 88,800.00</td>\n",
       "      <td>9/27/2013</td>\n",
       "      <td>240.0</td>\n",
       "      <td>...</td>\n",
       "      <td>Yes</td>\n",
       "      <td>No</td>\n",
       "      <td>local banker/mentor</td>\n",
       "      <td>No</td>\n",
       "      <td>NaN</td>\n",
       "      <td>Yes</td>\n",
       "      <td>NaN</td>\n",
       "      <td>NaN</td>\n",
       "      <td>NaN</td>\n",
       "      <td>Thrivent</td>\n",
       "    </tr>\n",
       "  </tbody>\n",
       "</table>\n",
       "<p>1 rows × 89 columns</p>\n",
       "</div>"
      ],
      "text/plain": [
       "                 Affiliate  ID   Loan No  \\\n",
       "0  Aitkin County HFH  (MN)   1  78001567   \n",
       "\n",
       "   Street Address\\r\\n(ex: 1234 Five Lane)    City State Abbreviation    Zip  \\\n",
       "0                                     NaN  Aitkin                 MN  56431   \n",
       "\n",
       "    Sales Price  Closing Date\\r\\n(mm/yyyy)  Term (Months)  ...  \\\n",
       "0   $ 88,800.00                  9/27/2013          240.0  ...   \n",
       "\n",
       "  12-month report\\r\\nFinancial counseling provided during period of mortgage relief  \\\n",
       "0                                                Yes                                  \n",
       "\n",
       "  12-month report\\r\\nOther training/support received from HFH?  \\\n",
       "0                                                 No             \n",
       "\n",
       "  12-month report\\r\\nDescription of other training received  \\\n",
       "0                                local banker/mentor          \n",
       "\n",
       "  12-month report\\r\\nReferrals to other agencies  \\\n",
       "0                                             No   \n",
       "\n",
       "  12-month report\\r\\nDescribe referral  \\\n",
       "0                                  NaN   \n",
       "\n",
       "  12-month report Resident Loan number-referenced) currently residing in home?  \\\n",
       "0                                                Yes                             \n",
       "\n",
       "  12-month report If resident no longer residing in home, please explain  \\\n",
       "0                                                NaN                       \n",
       "\n",
       "  12-month report-additional details on titleholders residing in home Note  \\\n",
       "0                                                NaN                   NaN   \n",
       "\n",
       "      Funds  \n",
       "0  Thrivent  \n",
       "\n",
       "[1 rows x 89 columns]"
      ]
     },
     "execution_count": 3,
     "metadata": {},
     "output_type": "execute_result"
    }
   ],
   "source": [
    "## import table from HFHI\n",
    "mortgagerelief = pd.read_csv('MRData.csv')\n",
    "mortgagerelief.head(1)"
   ]
  },
  {
   "cell_type": "code",
   "execution_count": 61,
   "metadata": {},
   "outputs": [
    {
     "data": {
      "image/png": "[encoded data removed]",
      "text/plain": [
       "<Figure size 432x288 with 1 Axes>"
      ]
     },
     "metadata": {
      "needs_background": "light"
     },
     "output_type": "display_data"
    }
   ],
   "source": [
    "#plot gender data\n",
    "genders = mortgagerelief['Title Holder Gender'].str.capitalize().value_counts().sort_values()\n",
    "# takes gender column, standardizes data, groupby\n",
    "genders = genders/sum(genders)*100\n",
    "# make genders into proportions\n",
    "genders.plot.barh(color=['red','purple','blue'])\n",
    "# create horizontal bar plot with different colors\n",
    "plt.title('Gender Distribution of Mortgage Relief');\n"
   ]
  },
  {
   "cell_type": "code",
   "execution_count": 60,
   "metadata": {},
   "outputs": [
    {
     "data": {
      "text/plain": [
       "<matplotlib.axes._subplots.AxesSubplot at 0x1eef6b53780>"
      ]
     },
     "execution_count": 60,
     "metadata": {},
     "output_type": "execute_result"
    },
    {
     "data": {
      "image/png": "[encoded data removed]",
      "text/plain": [
       "<Figure size 432x288 with 1 Axes>"
      ]
     },
     "metadata": {
      "needs_background": "light"
     },
     "output_type": "display_data"
    }
   ],
   "source": [
    "races = mortgagerelief[['Asian: Race/Ethnicity title holders','Black or African American: Race/Ethnicity of title holders','White: Race/Ethnicity of title holders',\n",
    "       'Native Hawaiian/Other Pacific Islander: Race/Ethnicity of title holders',\n",
    "       'American Indian or Alaska Native: Race/Ethnicity of title holders',\n",
    "       'Hispanic/Latino: Race/Ethnicity of title holders',\n",
    "       \"Don't Know or Don't want to Answer: Race/Ethnicity of title holders\"]]\n",
    "races = races.rename(columns={'Asian: Race/Ethnicity title holders': 'Asian', 'Black or African American: Race/Ethnicity of title holders': 'Black or African American', 'White: Race/Ethnicity of title holders':'White',\n",
    "                             'Native Hawaiian/Other Pacific Islander: Race/Ethnicity of title holders': 'Native Hawaiian/Other Pacific Islander', 'American Indian or Alaska Native: Race/Ethnicity of title holders':'American Indian or Alaska Native',\n",
    "                             'Hispanic/Latino: Race/Ethnicity of title holders':'Hispanic/Latino', \"Don't Know or Don't want to Answer: Race/Ethnicity of title holders\": \"Don't Know or Don't Want to Answer\"})\n",
    "races = races.fillna('No') \n",
    "races = races.replace({'Yes':1,'No':0, 'yes':1, 'no':0, \"YES\": 1, \"NO\": 0, \" Yes \": 1, \"*\": 0, \"X\": 1})\n",
    "races = races.sum(axis = 0) #add up total number of \n",
    "noAnswer = races[\"Don't Know or Don't Want to Answer\"] #number of people who answered no race\n",
    "races1 = races.drop(\"Don't Know or Don't Want to Answer\") #we're not using data of people who answered no race\n",
    "races1 = races1 / sum(races1) * 100\n",
    "races1 = races1.sort_values()\n",
    "races1.plot.barh()\n"
   ]
  },
  {
   "cell_type": "code",
   "execution_count": null,
   "metadata": {},
   "outputs": [],
   "source": []
  }
 ],
 "metadata": {
  "kernelspec": {
   "display_name": "Python 3",
   "language": "python",
   "name": "python3"
  },
  "language_info": {
   "codemirror_mode": {
    "name": "ipython",
    "version": 3
   },
   "file_extension": ".py",
   "mimetype": "text/x-python",
   "name": "python",
   "nbconvert_exporter": "python",
   "pygments_lexer": "ipython3",
   "version": "3.7.3"
  }
 },
 "nbformat": 4,
 "nbformat_minor": 4
}
