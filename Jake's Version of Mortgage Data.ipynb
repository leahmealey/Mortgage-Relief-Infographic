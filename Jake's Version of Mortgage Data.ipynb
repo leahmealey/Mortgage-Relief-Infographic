{
 "cells": [
  {
   "cell_type": "code",
   "execution_count": 2,
   "metadata": {},
   "outputs": [],
   "source": [
    "## import packages\n",
    "import pandas as pd\n",
    "import numpy as np\n",
    "import seaborn as sns\n",
    "import matplotlib.pyplot as plt\n",
    "import sqlalchemy"
   ]
  },
  {
   "cell_type": "code",
   "execution_count": 3,
   "metadata": {},
   "outputs": [
    {
     "data": {
      "text/html": [
       "<div>\n",
       "<style scoped>\n",
       "    .dataframe tbody tr th:only-of-type {\n",
       "        vertical-align: middle;\n",
       "    }\n",
       "\n",
       "    .dataframe tbody tr th {\n",
       "        vertical-align: top;\n",
       "    }\n",
       "\n",
       "    .dataframe thead th {\n",
       "        text-align: right;\n",
       "    }\n",
       "</style>\n",
       "<table border=\"1\" class=\"dataframe\">\n",
       "  <thead>\n",
       "    <tr style=\"text-align: right;\">\n",
       "      <th></th>\n",
       "      <th>Affiliate</th>\n",
       "      <th>ID</th>\n",
       "      <th>Loan No</th>\n",
       "      <th>Street Address\\n(ex: 1234 Five Lane)</th>\n",
       "      <th>City</th>\n",
       "      <th>State Abbreviation</th>\n",
       "      <th>Zip</th>\n",
       "      <th>Sales Price</th>\n",
       "      <th>Closing Date\\n(mm/yyyy)</th>\n",
       "      <th>Term (Months)</th>\n",
       "      <th>...</th>\n",
       "      <th>12-month report\\nFinancial counseling provided during period of mortgage relief</th>\n",
       "      <th>12-month report\\nOther training/support received from HFH?</th>\n",
       "      <th>12-month report\\nDescription of other training received</th>\n",
       "      <th>12-month report\\nReferrals to other agencies</th>\n",
       "      <th>12-month report\\nDescribe referral</th>\n",
       "      <th>12-month report Resident Loan number-referenced) currently residing in home?</th>\n",
       "      <th>12-month report If resident no longer residing in home, please explain</th>\n",
       "      <th>12-month report-additional details on titleholders residing in home</th>\n",
       "      <th>Note</th>\n",
       "      <th>Funds</th>\n",
       "    </tr>\n",
       "  </thead>\n",
       "  <tbody>\n",
       "    <tr>\n",
       "      <th>0</th>\n",
       "      <td>Aitkin County HFH  (MN)</td>\n",
       "      <td>1</td>\n",
       "      <td>78001567</td>\n",
       "      <td>NaN</td>\n",
       "      <td>Aitkin</td>\n",
       "      <td>MN</td>\n",
       "      <td>56431</td>\n",
       "      <td>$ 88,800.00</td>\n",
       "      <td>9/27/2013</td>\n",
       "      <td>240.0</td>\n",
       "      <td>...</td>\n",
       "      <td>Yes</td>\n",
       "      <td>No</td>\n",
       "      <td>local banker/mentor</td>\n",
       "      <td>No</td>\n",
       "      <td>NaN</td>\n",
       "      <td>Yes</td>\n",
       "      <td>NaN</td>\n",
       "      <td>NaN</td>\n",
       "      <td>NaN</td>\n",
       "      <td>Thrivent</td>\n",
       "    </tr>\n",
       "  </tbody>\n",
       "</table>\n",
       "<p>1 rows × 89 columns</p>\n",
       "</div>"
      ],
      "text/plain": [
       "                 Affiliate  ID   Loan No  \\\n",
       "0  Aitkin County HFH  (MN)   1  78001567   \n",
       "\n",
       "   Street Address\\n(ex: 1234 Five Lane)    City State Abbreviation    Zip  \\\n",
       "0                                   NaN  Aitkin                 MN  56431   \n",
       "\n",
       "    Sales Price  Closing Date\\n(mm/yyyy)  Term (Months)  ...  \\\n",
       "0   $ 88,800.00                9/27/2013          240.0  ...   \n",
       "\n",
       "  12-month report\\nFinancial counseling provided during period of mortgage relief  \\\n",
       "0                                                Yes                                \n",
       "\n",
       "  12-month report\\nOther training/support received from HFH?  \\\n",
       "0                                                 No           \n",
       "\n",
       "  12-month report\\nDescription of other training received  \\\n",
       "0                                local banker/mentor        \n",
       "\n",
       "  12-month report\\nReferrals to other agencies  \\\n",
       "0                                           No   \n",
       "\n",
       "  12-month report\\nDescribe referral  \\\n",
       "0                                NaN   \n",
       "\n",
       "  12-month report Resident Loan number-referenced) currently residing in home?  \\\n",
       "0                                                Yes                             \n",
       "\n",
       "  12-month report If resident no longer residing in home, please explain  \\\n",
       "0                                                NaN                       \n",
       "\n",
       "  12-month report-additional details on titleholders residing in home Note  \\\n",
       "0                                                NaN                   NaN   \n",
       "\n",
       "      Funds  \n",
       "0  Thrivent  \n",
       "\n",
       "[1 rows x 89 columns]"
      ]
     },
     "execution_count": 3,
     "metadata": {},
     "output_type": "execute_result"
    }
   ],
   "source": [
    "## import table from HFHI\n",
    "mortgagerelief = pd.read_csv('MRData.csv')\n",
    "mortgagerelief.head(1)"
   ]
  },
  {
   "cell_type": "code",
   "execution_count": 43,
   "metadata": {},
   "outputs": [
    {
     "data": {
      "text/plain": [
       "0-5 years       6.413302\n",
       "6-12 years     16.508314\n",
       "13-17 years    18.646081\n",
       "18-64 years    56.690420\n",
       "65 + years      1.741884\n",
       "dtype: float64"
      ]
     },
     "execution_count": 43,
     "metadata": {},
     "output_type": "execute_result"
    },
    {
     "data": {
      "image/png": "[encoded data removed]",
      "text/plain": [
       "<Figure size 432x288 with 1 Axes>"
      ]
     },
     "metadata": {
      "needs_background": "light"
     },
     "output_type": "display_data"
    }
   ],
   "source": [
    "ages = mortgagerelief[[\"# in household 0-5 years\", \"# in household 6-12 years\", \"# in household 13-17 years\",\n",
    "                      \"# in household  18-64 years\", \"# in household 65+ years\"]]\n",
    "ages = ages.fillna(0)\n",
    "ages = ages.replace({\"n/a\": 0, \"N/A\": 0, \"Unknown\": 0, \"Unkown\": 0, \"same as above file\": 0,\n",
    "                    \"No App on File\": 0})\n",
    "ages = ages.rename(columns = {\"# in household 0-5 years\": \"0-5 years\", \"# in household 6-12 years\":\"6-12 years\", \"# in household 13-17 years\": \"13-17 years\",\n",
    "                      \"# in household  18-64 years\": \"18-64 years\", \"# in household 65+ years\": \"65 + years\"})\n",
    "ages = ages.astype(int)\n",
    "ages = ages.sum(axis = 0)\n",
    "ages\n",
    "ages = ages / sum(ages) * 100\n",
    "ages.plot.barh(color=['#A3007E','#EB34C0','#2CB3F2','#0060BA','#43B538'])\n",
    "plt.title(\"Ages of those Impacted in Household\")\n",
    "ages"
   ]
  },
  {
   "cell_type": "code",
   "execution_count": 42,
   "metadata": {},
   "outputs": [
    {
     "data": {
      "text/plain": [
       "Military/veteran households                          1.191658\n",
       "Households with family members with a disability     8.566108\n",
       "Households with someone 65+ years                    3.197158\n",
       "Households with children between 13 and 17 years    28.596803\n",
       "Households with children between 6 and 12 years     24.511545\n",
       "Households with children under 5 years              10.390764\n",
       "dtype: float64"
      ]
     },
     "execution_count": 42,
     "metadata": {},
     "output_type": "execute_result"
    },
    {
     "data": {
      "image/png": "[encoded data removed]",
      "text/plain": [
       "<Figure size 432x288 with 1 Axes>"
      ]
     },
     "metadata": {
      "needs_background": "light"
     },
     "output_type": "display_data"
    }
   ],
   "source": [
    "## household with vulnerable groups\n",
    "# start with young and old ppl\n",
    "ages = mortgagerelief[[\"# in household 0-5 years\", \"# in household 6-12 years\", \"# in household 13-17 years\",\n",
    "                      \"# in household  18-64 years\", \"# in household 65+ years\"]]\n",
    "ages = ages.fillna(0)\n",
    "ages = ages.replace({\"n/a\": 0, \"N/A\": 0, \"Unknown\": 0, \"Unkown\": 0, \"same as above file\": 0,\n",
    "                    \"No App on File\": 0})\n",
    "ages = ages.rename(columns = {\"# in household 0-5 years\": \"Households with children under 5 years\", \"# in household 6-12 years\":\"Households with children between 6 and 12 years\", \"# in household 13-17 years\": \"Households with children between 13 and 17 years\",\n",
    "                      \"# in household  18-64 years\": \"18-64 years\", \"# in household 65+ years\": \"Households with someone 65+ years\"})\n",
    "ages = ages.astype(int)\n",
    "\n",
    "ages = (ages>0).sum()/ages.count()*100\n",
    "vulnerable = ages[[\"Households with children under 5 years\",'Households with children between 6 and 12 years',\"Households with children between 13 and 17 years\",'Households with someone 65+ years']]\n",
    "vulnerable\n",
    "\n",
    "# add disabled\n",
    "numdisabled = mortgagerelief['# in HH with disability'].fillna(0) #.astype(int)\n",
    "numdisabled = numdisabled[pd.to_numeric(numdisabled, errors='coerce').notnull()].astype(int)>0\n",
    "vulnerable['Households with family members with a disability'] = sum(numdisabled)/len(numdisabled)*100\n",
    "vulnerable\n",
    "\n",
    "# add military\n",
    "numserved = mortgagerelief['# in HH  served or is currently serving in the military?'].fillna(0)\n",
    "numserved = numserved[pd.to_numeric(numserved, errors='coerce').notnull()].astype(int)>0\n",
    "vulnerable['Military/veteran households'] = sum(numserved)/len(numserved)*100\n",
    "vulnerable = vulnerable[['Military/veteran households','Households with family members with a disability','Households with someone 65+ years',\"Households with children between 13 and 17 years\",'Households with children between 6 and 12 years',\"Households with children under 5 years\"]]\n",
    "vulnerable.plot.barh(color=['#FF6E0D','#A3007E','#EB34C0','#2CB3F2','#0060BA','#43B538'])\n",
    "plt.title('Households supported with vulnerable groups');\n",
    "vulnerable"
   ]
  },
  {
   "cell_type": "markdown",
   "metadata": {},
   "source": [
    "### How many houses were foreclosed over time and why were they foreclosed?\n"
   ]
  },
  {
   "cell_type": "code",
   "execution_count": 6,
   "metadata": {},
   "outputs": [],
   "source": [
    "foreclosures = mortgagerelief[\"Has this property been foreclosed?\"].str.lower().str.strip()\n",
    "foreclosures = foreclosures.fillna(\"no\") #na = didn't foreclose\n",
    "\n",
    "foreclosures = foreclosures.value_counts().sort_values() #note: 1121 no, 5 yes, 99.6% non-foreclosure rate :)\n",
    "#foreclosures = foreclosures / sum(foreclosures) * 100\n",
    "#foreclosures.plot.barh(color=['#2CB3F2', '#0060BA', '#43B538', '#EB34C0', '#A3007E', '#FF6E0D']);\n"
   ]
  },
  {
   "cell_type": "code",
   "execution_count": 7,
   "metadata": {},
   "outputs": [
    {
     "data": {
      "text/plain": [
       "<AxesSubplot:>"
      ]
     },
     "execution_count": 7,
     "metadata": {},
     "output_type": "execute_result"
    },
    {
     "data": {
      "image/png": "[encoded data removed]",
      "text/plain": [
       "<Figure size 432x288 with 1 Axes>"
      ]
     },
     "metadata": {
      "needs_background": "light"
     },
     "output_type": "display_data"
    }
   ],
   "source": [
    "#reason\n",
    "foreclosures = mortgagerelief[\"Has this property been foreclosed?\"].str.lower().str.strip()\n",
    "foreclosures = foreclosures.fillna(\"no\") #na = didn't foreclose\n",
    "\n",
    "foreclosureIndices = foreclosures[foreclosures==\"yes\"].index #get the indices of foreclosures\n",
    "foreclosureReasons = mortgagerelief[\"Please explain why this property has been foreclosed\"]\n",
    "foreclosureReasons = foreclosureReasons.loc[[index for index in foreclosureIndices]] #isolate just the rows where foreclosed was \"yes\"\n",
    "foreclosureReasons = foreclosureReasons.value_counts().sort_values()\n",
    "foreclosureReasons.plot.barh(color=['#2CB3F2', '#0060BA', '#43B538', '#EB34C0', '#A3007E', '#FF6E0D'])\n",
    "#edit: don't need this graph bcuz only 5 responses and no descriptive reasons"
   ]
  },
  {
   "cell_type": "code",
   "execution_count": 8,
   "metadata": {},
   "outputs": [
    {
     "ename": "KeyError",
     "evalue": "'6-month report \\r\\nHas this property been foreclosed?'",
     "output_type": "error",
     "traceback": [
      "\u001b[1;31m---------------------------------------------------------------------------\u001b[0m",
      "\u001b[1;31mKeyError\u001b[0m                                  Traceback (most recent call last)",
      "\u001b[1;32m~\\anaconda3\\lib\\site-packages\\pandas\\core\\indexes\\base.py\u001b[0m in \u001b[0;36mget_loc\u001b[1;34m(self, key, method, tolerance)\u001b[0m\n\u001b[0;32m   2894\u001b[0m             \u001b[1;32mtry\u001b[0m\u001b[1;33m:\u001b[0m\u001b[1;33m\u001b[0m\u001b[1;33m\u001b[0m\u001b[0m\n\u001b[1;32m-> 2895\u001b[1;33m                 \u001b[1;32mreturn\u001b[0m \u001b[0mself\u001b[0m\u001b[1;33m.\u001b[0m\u001b[0m_engine\u001b[0m\u001b[1;33m.\u001b[0m\u001b[0mget_loc\u001b[0m\u001b[1;33m(\u001b[0m\u001b[0mcasted_key\u001b[0m\u001b[1;33m)\u001b[0m\u001b[1;33m\u001b[0m\u001b[1;33m\u001b[0m\u001b[0m\n\u001b[0m\u001b[0;32m   2896\u001b[0m             \u001b[1;32mexcept\u001b[0m \u001b[0mKeyError\u001b[0m \u001b[1;32mas\u001b[0m \u001b[0merr\u001b[0m\u001b[1;33m:\u001b[0m\u001b[1;33m\u001b[0m\u001b[1;33m\u001b[0m\u001b[0m\n",
      "\u001b[1;32mpandas\\_libs\\index.pyx\u001b[0m in \u001b[0;36mpandas._libs.index.IndexEngine.get_loc\u001b[1;34m()\u001b[0m\n",
      "\u001b[1;32mpandas\\_libs\\index.pyx\u001b[0m in \u001b[0;36mpandas._libs.index.IndexEngine.get_loc\u001b[1;34m()\u001b[0m\n",
      "\u001b[1;32mpandas\\_libs\\hashtable_class_helper.pxi\u001b[0m in \u001b[0;36mpandas._libs.hashtable.PyObjectHashTable.get_item\u001b[1;34m()\u001b[0m\n",
      "\u001b[1;32mpandas\\_libs\\hashtable_class_helper.pxi\u001b[0m in \u001b[0;36mpandas._libs.hashtable.PyObjectHashTable.get_item\u001b[1;34m()\u001b[0m\n",
      "\u001b[1;31mKeyError\u001b[0m: '6-month report \\r\\nHas this property been foreclosed?'",
      "\nThe above exception was the direct cause of the following exception:\n",
      "\u001b[1;31mKeyError\u001b[0m                                  Traceback (most recent call last)",
      "\u001b[1;32m<ipython-input-8-b24382731c54>\u001b[0m in \u001b[0;36m<module>\u001b[1;34m\u001b[0m\n\u001b[0;32m      1\u001b[0m \u001b[1;31m#6 month report\u001b[0m\u001b[1;33m\u001b[0m\u001b[1;33m\u001b[0m\u001b[1;33m\u001b[0m\u001b[0m\n\u001b[1;32m----> 2\u001b[1;33m \u001b[0mforeclosures\u001b[0m \u001b[1;33m=\u001b[0m \u001b[0mmortgagerelief\u001b[0m\u001b[1;33m[\u001b[0m\u001b[1;34m\"6-month report \\r\\nHas this property been foreclosed?\"\u001b[0m\u001b[1;33m]\u001b[0m\u001b[1;33m.\u001b[0m\u001b[0mstr\u001b[0m\u001b[1;33m.\u001b[0m\u001b[0mlower\u001b[0m\u001b[1;33m(\u001b[0m\u001b[1;33m)\u001b[0m\u001b[1;33m.\u001b[0m\u001b[0mstr\u001b[0m\u001b[1;33m.\u001b[0m\u001b[0mstrip\u001b[0m\u001b[1;33m(\u001b[0m\u001b[1;33m)\u001b[0m\u001b[1;33m\u001b[0m\u001b[1;33m\u001b[0m\u001b[0m\n\u001b[0m\u001b[0;32m      3\u001b[0m \u001b[0mforeclosures\u001b[0m \u001b[1;33m=\u001b[0m \u001b[0mforeclosures\u001b[0m\u001b[1;33m.\u001b[0m\u001b[0mfillna\u001b[0m\u001b[1;33m(\u001b[0m\u001b[1;34m\"no\"\u001b[0m\u001b[1;33m)\u001b[0m \u001b[1;31m#na = didn't foreclose\u001b[0m\u001b[1;33m\u001b[0m\u001b[1;33m\u001b[0m\u001b[0m\n\u001b[0;32m      4\u001b[0m \u001b[0mforeclosures\u001b[0m \u001b[1;33m=\u001b[0m \u001b[0mforeclosures\u001b[0m\u001b[1;33m.\u001b[0m\u001b[0mreplace\u001b[0m\u001b[1;33m(\u001b[0m\u001b[1;33m{\u001b[0m\u001b[1;34m\"na\"\u001b[0m\u001b[1;33m:\u001b[0m \u001b[1;34m\"no\"\u001b[0m\u001b[1;33m,\u001b[0m \u001b[1;34m\"deed-in-lieu\"\u001b[0m\u001b[1;33m:\u001b[0m \u001b[1;34m\"yes\"\u001b[0m\u001b[1;33m,\u001b[0m \u001b[1;34m\"n/a\"\u001b[0m\u001b[1;33m:\u001b[0m \u001b[1;34m\"no\"\u001b[0m\u001b[1;33m}\u001b[0m\u001b[1;33m)\u001b[0m\u001b[1;33m\u001b[0m\u001b[1;33m\u001b[0m\u001b[0m\n\u001b[0;32m      5\u001b[0m \u001b[0mforeclosures\u001b[0m \u001b[1;33m=\u001b[0m \u001b[0mforeclosures\u001b[0m\u001b[1;33m.\u001b[0m\u001b[0mvalue_counts\u001b[0m\u001b[1;33m(\u001b[0m\u001b[1;33m)\u001b[0m\u001b[1;33m.\u001b[0m\u001b[0msort_values\u001b[0m\u001b[1;33m(\u001b[0m\u001b[1;33m)\u001b[0m \u001b[1;31m#note: 1123 no, 3 yes: 99.7% no\u001b[0m\u001b[1;33m\u001b[0m\u001b[1;33m\u001b[0m\u001b[0m\n",
      "\u001b[1;32m~\\anaconda3\\lib\\site-packages\\pandas\\core\\frame.py\u001b[0m in \u001b[0;36m__getitem__\u001b[1;34m(self, key)\u001b[0m\n\u001b[0;32m   2900\u001b[0m             \u001b[1;32mif\u001b[0m \u001b[0mself\u001b[0m\u001b[1;33m.\u001b[0m\u001b[0mcolumns\u001b[0m\u001b[1;33m.\u001b[0m\u001b[0mnlevels\u001b[0m \u001b[1;33m>\u001b[0m \u001b[1;36m1\u001b[0m\u001b[1;33m:\u001b[0m\u001b[1;33m\u001b[0m\u001b[1;33m\u001b[0m\u001b[0m\n\u001b[0;32m   2901\u001b[0m                 \u001b[1;32mreturn\u001b[0m \u001b[0mself\u001b[0m\u001b[1;33m.\u001b[0m\u001b[0m_getitem_multilevel\u001b[0m\u001b[1;33m(\u001b[0m\u001b[0mkey\u001b[0m\u001b[1;33m)\u001b[0m\u001b[1;33m\u001b[0m\u001b[1;33m\u001b[0m\u001b[0m\n\u001b[1;32m-> 2902\u001b[1;33m             \u001b[0mindexer\u001b[0m \u001b[1;33m=\u001b[0m \u001b[0mself\u001b[0m\u001b[1;33m.\u001b[0m\u001b[0mcolumns\u001b[0m\u001b[1;33m.\u001b[0m\u001b[0mget_loc\u001b[0m\u001b[1;33m(\u001b[0m\u001b[0mkey\u001b[0m\u001b[1;33m)\u001b[0m\u001b[1;33m\u001b[0m\u001b[1;33m\u001b[0m\u001b[0m\n\u001b[0m\u001b[0;32m   2903\u001b[0m             \u001b[1;32mif\u001b[0m \u001b[0mis_integer\u001b[0m\u001b[1;33m(\u001b[0m\u001b[0mindexer\u001b[0m\u001b[1;33m)\u001b[0m\u001b[1;33m:\u001b[0m\u001b[1;33m\u001b[0m\u001b[1;33m\u001b[0m\u001b[0m\n\u001b[0;32m   2904\u001b[0m                 \u001b[0mindexer\u001b[0m \u001b[1;33m=\u001b[0m \u001b[1;33m[\u001b[0m\u001b[0mindexer\u001b[0m\u001b[1;33m]\u001b[0m\u001b[1;33m\u001b[0m\u001b[1;33m\u001b[0m\u001b[0m\n",
      "\u001b[1;32m~\\anaconda3\\lib\\site-packages\\pandas\\core\\indexes\\base.py\u001b[0m in \u001b[0;36mget_loc\u001b[1;34m(self, key, method, tolerance)\u001b[0m\n\u001b[0;32m   2895\u001b[0m                 \u001b[1;32mreturn\u001b[0m \u001b[0mself\u001b[0m\u001b[1;33m.\u001b[0m\u001b[0m_engine\u001b[0m\u001b[1;33m.\u001b[0m\u001b[0mget_loc\u001b[0m\u001b[1;33m(\u001b[0m\u001b[0mcasted_key\u001b[0m\u001b[1;33m)\u001b[0m\u001b[1;33m\u001b[0m\u001b[1;33m\u001b[0m\u001b[0m\n\u001b[0;32m   2896\u001b[0m             \u001b[1;32mexcept\u001b[0m \u001b[0mKeyError\u001b[0m \u001b[1;32mas\u001b[0m \u001b[0merr\u001b[0m\u001b[1;33m:\u001b[0m\u001b[1;33m\u001b[0m\u001b[1;33m\u001b[0m\u001b[0m\n\u001b[1;32m-> 2897\u001b[1;33m                 \u001b[1;32mraise\u001b[0m \u001b[0mKeyError\u001b[0m\u001b[1;33m(\u001b[0m\u001b[0mkey\u001b[0m\u001b[1;33m)\u001b[0m \u001b[1;32mfrom\u001b[0m \u001b[0merr\u001b[0m\u001b[1;33m\u001b[0m\u001b[1;33m\u001b[0m\u001b[0m\n\u001b[0m\u001b[0;32m   2898\u001b[0m \u001b[1;33m\u001b[0m\u001b[0m\n\u001b[0;32m   2899\u001b[0m         \u001b[1;32mif\u001b[0m \u001b[0mtolerance\u001b[0m \u001b[1;32mis\u001b[0m \u001b[1;32mnot\u001b[0m \u001b[1;32mNone\u001b[0m\u001b[1;33m:\u001b[0m\u001b[1;33m\u001b[0m\u001b[1;33m\u001b[0m\u001b[0m\n",
      "\u001b[1;31mKeyError\u001b[0m: '6-month report \\r\\nHas this property been foreclosed?'"
     ]
    }
   ],
   "source": [
    "#6 month report\n",
    "foreclosures = mortgagerelief[\"6-month report \\r\\nHas this property been foreclosed?\"].str.lower().str.strip()\n",
    "foreclosures = foreclosures.fillna(\"no\") #na = didn't foreclose\n",
    "foreclosures = foreclosures.replace({\"na\": \"no\", \"deed-in-lieu\": \"yes\", \"n/a\": \"no\"})\n",
    "foreclosures = foreclosures.value_counts().sort_values() #note: 1123 no, 3 yes: 99.7% no\n",
    "#foreclosures = foreclosures / sum(foreclosures) * 100\n",
    "#foreclosures.plot.barh(color=['#2CB3F2', '#0060BA', '#43B538', '#EB34C0', '#A3007E', '#FF6E0D'])"
   ]
  },
  {
   "cell_type": "code",
   "execution_count": null,
   "metadata": {},
   "outputs": [],
   "source": [
    "#reason\n",
    "foreclosures = mortgagerelief[\"6-month report \\r\\nHas this property been foreclosed?\"].str.lower().str.strip()\n",
    "foreclosures = foreclosures.fillna(\"no\") #na = didn't foreclose\n",
    "foreclosures = foreclosures.replace({\"na\": \"no\", \" deed-in-lieu \": \"yes\", \n",
    "                                    \"n/a\": \"no\"})\n",
    "\n",
    "foreclosureIndices = foreclosures[foreclosures==\"yes\"].index #get the indices of foreclosures\n",
    "foreclosureReasons = mortgagerelief[\"6-month report\\r\\nPlease explain why this property has been foreclosed\"]\n",
    "foreclosureReasons = foreclosureReasons.loc[[index for index in foreclosureIndices]] #isolate just the rows where foreclosed was \"yes\"\n",
    "foreclosureReasons = foreclosureReasons.value_counts()\n",
    "foreclosureReasons.plot.barh(color=['#2CB3F2', '#0060BA', '#43B538', '#EB34C0', '#A3007E', '#FF6E0D'])\n",
    "#edit: no new information"
   ]
  },
  {
   "cell_type": "code",
   "execution_count": null,
   "metadata": {},
   "outputs": [],
   "source": [
    "#12 month report \n",
    "foreclosures = mortgagerelief[\"12-month report \\r\\nHas this property been foreclosed?\"].str.lower().str.strip()\n",
    "foreclosures = foreclosures.fillna(\"no\") #na = didn't foreclose\n",
    "foreclosures = foreclosures.replace({\"na\": \"no\", \"n/a\": \"no\",\n",
    "    \"no \\r\\n no \\r\\n no \\r\\n no \\r\\n no \\r\\n no \\r\\n no \\r\\n no \\r\\n no \\r\\n no \\r\\n no\": \"no\"}) #idk what happened there lol\n",
    "\n",
    "print(foreclosures.value_counts())\n",
    "foreclosures = foreclosures.value_counts().sort_values() #note: 1125 no, 1 yes 99.9%\n",
    "#foreclosures = foreclosures / sum(foreclosures) * 100\n",
    "#foreclosures.plot.barh(color=['#2CB3F2', '#0060BA', '#43B538', '#EB34C0', '#A3007E', '#FF6E0D'])\n"
   ]
  },
  {
   "cell_type": "code",
   "execution_count": null,
   "metadata": {},
   "outputs": [],
   "source": [
    "#reason\n",
    "foreclosures = mortgagerelief[\"12-month report \\r\\nHas this property been foreclosed?\"].str.lower().str.strip()\n",
    "foreclosures = foreclosures.fillna(\"no\") #na = didn't foreclose\n",
    "foreclosures = foreclosures.replace({\"na\": \"no\", \"n/a\": \"no\",\n",
    "    \"no \\r\\n no \\r\\n no \\r\\n no \\r\\n no \\r\\n no \\r\\n no \\r\\n no \\r\\n no \\r\\n no \\r\\n no\": \"no\"})\n",
    "\n",
    "foreclosureIndices = foreclosures[foreclosures==\"yes\"].index #get the indices of foreclosures\n",
    "foreclosureReasons = mortgagerelief[\"12-month report\\r\\nPlease explain why this property has been foreclosed\"]\n",
    "foreclosureReasons = foreclosureReasons.loc[[index for index in foreclosureIndices]] #isolate just the rows where foreclosed was \"yes\"\n",
    "foreclosureReasons = foreclosureReasons.value_counts()\n",
    "#foreclosureReasons.plot.barh()"
   ]
  },
  {
   "cell_type": "markdown",
   "metadata": {},
   "source": [
    "### How many households received mortgage forbearance & why? (columns T-U; BD-BE; BV-BW)"
   ]
  },
  {
   "cell_type": "code",
   "execution_count": 41,
   "metadata": {},
   "outputs": [
    {
     "name": "stderr",
     "output_type": "stream",
     "text": [
      "<ipython-input-41-a6c3eec3cf23>:19: DeprecationWarning: The default dtype for empty Series will be 'object' instead of 'float64' in a future version. Specify a dtype explicitly to silence this warning.\n",
      "  forbearance = pd.Series();\n"
     ]
    },
    {
     "data": {
      "text/plain": [
       "Twelve Month Report Forbearance Rate    30.842607\n",
       "Six Month Report Forbearance Rate       34.355045\n",
       "Baseline Report Forbearance Rate        64.717949\n",
       "dtype: float64"
      ]
     },
     "execution_count": 41,
     "metadata": {},
     "output_type": "execute_result"
    },
    {
     "data": {
      "image/png": "[encoded data removed]",
      "text/plain": [
       "<Figure size 432x288 with 1 Axes>"
      ]
     },
     "metadata": {
      "needs_background": "light"
     },
     "output_type": "display_data"
    }
   ],
   "source": [
    "##baseline data\n",
    "baseline = mortgagerelief[\"Forbearance issued?\"].str.lower().str.strip()\n",
    "baseline = baseline.value_counts()\n",
    "baseline = baseline/sum(baseline)*100\n",
    "\n",
    "##6 month data\n",
    "sixmonth = mortgagerelief['6-month report\\nForbearance issued?'].str.lower().str.strip()\n",
    "sixmonth = sixmonth.replace({\"0\":\"no\", \"n/a\":\"no\"})\n",
    "sixmonth = sixmonth.value_counts()\n",
    "sixmonth = sixmonth/sum(sixmonth)*100\n",
    "\n",
    "#12 month data\n",
    "twelvemonth = mortgagerelief[\"12-month report\\nForbearance issued?\"].str.lower().str.strip()\n",
    "twelvemonth = twelvemonth.replace({\"0\":\"no\", \"$ -\":\"no\"})\n",
    "twelvemonth = twelvemonth.value_counts()\n",
    "twelvemonth = twelvemonth/sum(twelvemonth)*100\n",
    "\n",
    "#combine data\n",
    "forbearance = pd.Series();\n",
    "forbearance['Twelve Month Report Forbearance Rate'] = twelvemonth['yes']\n",
    "forbearance['Six Month Report Forbearance Rate'] = sixmonth['yes']\n",
    "forbearance['Baseline Report Forbearance Rate'] = baseline['yes']\n",
    "forbearance.plot.barh(color=['#2CB3F2', '#0060BA', '#43B538', '#EB34C0', '#A3007E', '#FF6E0D'])\n",
    "plt.title('How many households received mortgage forbearance');\n",
    "forbearance"
   ]
  },
  {
   "cell_type": "code",
   "execution_count": null,
   "metadata": {},
   "outputs": [],
   "source": [
    "forbearance = mortgagerelief[\"Forbearance issued?\"].str.lower().str.strip()\n",
    "forbearance = forbearance.fillna(\"no\")\n",
    "\n",
    "forbearance = forbearance.value_counts().sort_values() #631 yes, 495 no, 56.0 % yes\n",
    "forbearance = forbearance / sum(forbearance) * 100\n",
    "#forbearance.plot.pie();#color=['#2CB3F2', '#0060BA', '#43B538', '#EB34C0', '#A3007E', '#FF6E0D'])\n"
   ]
  },
  {
   "cell_type": "code",
   "execution_count": null,
   "metadata": {},
   "outputs": [],
   "source": [
    "#reason \n",
    "forbearance = mortgagerelief[\"Forbearance issued?\"].str.lower().str.strip()\n",
    "forbearance = forbearance.fillna(\"no\")\n",
    "\n",
    "forbearanceIndices = forbearance[forbearance==\"yes\"].index\n",
    "forbearanceReasons = mortgagerelief[\"# of months forbearance issued\"]\n",
    "forbearanceReasons = forbearanceReasons.loc[[index for index in forbearanceIndices]]\n",
    "forbearanceReasons = forbearanceReasons.value_counts()\n",
    "forbearanceReasons.plot.barh(color=['#2CB3F2', '#0060BA', '#43B538', '#EB34C0', '#A3007E', '#FF6E0D'])"
   ]
  },
  {
   "cell_type": "code",
   "execution_count": null,
   "metadata": {},
   "outputs": [],
   "source": [
    "#6-month report\n",
    "forbearance = mortgagerelief[\"6-month report\\r\\nForbearance issued?\"].str.lower().str.strip()\n",
    "forbearance = forbearance.fillna(\"no\")\n",
    "forbearance = forbearance.replace({\"0\":\"no\", \"n/a\":\"no\"})\n",
    "\n",
    "forbearance = forbearance.value_counts().sort_values() #269 yes, 857 no\n",
    "forbearance = forbearance / sum(forbearance) * 100\n",
    "forbearance.plot.barh()"
   ]
  },
  {
   "cell_type": "code",
   "execution_count": null,
   "metadata": {},
   "outputs": [],
   "source": [
    "#reason\n",
    "forbearance = mortgagerelief[\"6-month report\\r\\nForbearance issued?\"].str.lower().str.strip()\n",
    "forbearance = forbearance.fillna(\"no\")\n",
    "forbearance = forbearance.replace({\"0\":\"no\", \"n/a\":\"no\"})\n",
    "\n",
    "forbearanceIndices = forbearance[forbearance==\"yes\"].index\n",
    "forbearanceReasons = mortgagerelief[\"\\r\\n6-month report\\r\\n# of months forbearance issued\"]\n",
    "forbearanceReasons = forbearanceReasons.loc[[index for index in forbearanceIndices]]\n",
    "forbearanceReasons = forbearanceReasons.value_counts()\n",
    "forbearanceReasons.plot.barh()"
   ]
  },
  {
   "cell_type": "code",
   "execution_count": null,
   "metadata": {},
   "outputs": [],
   "source": [
    "#12 month report\n",
    "forbearance = mortgagerelief[\"12-month report\\r\\nForbearance issued?\"].str.lower().str.strip()\n",
    "forbearance = forbearance.fillna(\"no\")\n",
    "forbearance = forbearance.replace({\"0\":\"no\", \"$ -\":\"no\"})\n",
    "forbearance.loc[forbearance !=\"no\"] = \"yes\"\n",
    "\n",
    "forbearance = forbearance.value_counts().sort_values() #201 yes, 925 no\n",
    "forbearance = forbearance / sum(forbearance) * 100\n",
    "forbearance.plot.barh()"
   ]
  },
  {
   "cell_type": "code",
   "execution_count": null,
   "metadata": {},
   "outputs": [],
   "source": [
    "#reason\n",
    "forbearance = mortgagerelief[\"12-month report\\r\\nForbearance issued?\"].str.lower().str.strip()\n",
    "forbearance = forbearance.fillna(\"no\")\n",
    "forbearance = forbearance.replace({\"0\":\"no\", \"$ -\":\"no\"})\n",
    "forbearance.loc[forbearance !=\"no\"] = \"yes\"\n",
    "\n",
    "forbearanceIndices = forbearance[forbearance==\"yes\"].index\n",
    "forbearanceReasons = mortgagerelief[\"\\r\\n12-month report\\r\\n# of months forbearance issued\"]\n",
    "forbearanceReasons = forbearanceReasons.loc[[index for index in forbearanceIndices]]\n",
    "forbearanceReasons = forbearanceReasons.value_counts()\n",
    "forbearanceReasons.plot.barh()"
   ]
  },
  {
   "cell_type": "code",
   "execution_count": null,
   "metadata": {},
   "outputs": [],
   "source": []
  }
 ],
 "metadata": {
  "kernelspec": {
   "display_name": "Python 3",
   "language": "python",
   "name": "python3"
  },
  "language_info": {
   "codemirror_mode": {
    "name": "ipython",
    "version": 3
   },
   "file_extension": ".py",
   "mimetype": "text/x-python",
   "name": "python",
   "nbconvert_exporter": "python",
   "pygments_lexer": "ipython3",
   "version": "3.8.5"
  }
 },
 "nbformat": 4,
 "nbformat_minor": 2
}
