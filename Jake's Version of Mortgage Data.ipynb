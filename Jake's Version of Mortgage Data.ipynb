{
 "cells": [
  {
   "cell_type": "code",
   "execution_count": 1,
   "metadata": {},
   "outputs": [],
   "source": [
    "## import packages\n",
    "import pandas as pd\n",
    "import numpy as np\n",
    "import seaborn as sns\n",
    "import matplotlib.pyplot as plt\n",
    "import sqlalchemy"
   ]
  },
  {
   "cell_type": "code",
   "execution_count": 2,
   "metadata": {},
   "outputs": [
    {
     "data": {
      "text/html": [
       "<div>\n",
       "<style scoped>\n",
       "    .dataframe tbody tr th:only-of-type {\n",
       "        vertical-align: middle;\n",
       "    }\n",
       "\n",
       "    .dataframe tbody tr th {\n",
       "        vertical-align: top;\n",
       "    }\n",
       "\n",
       "    .dataframe thead th {\n",
       "        text-align: right;\n",
       "    }\n",
       "</style>\n",
       "<table border=\"1\" class=\"dataframe\">\n",
       "  <thead>\n",
       "    <tr style=\"text-align: right;\">\n",
       "      <th></th>\n",
       "      <th>Affiliate</th>\n",
       "      <th>ID</th>\n",
       "      <th>Loan No</th>\n",
       "      <th>Street Address\r\n",
       "(ex: 1234 Five Lane)</th>\n",
       "      <th>City</th>\n",
       "      <th>State Abbreviation</th>\n",
       "      <th>Zip</th>\n",
       "      <th>Sales Price</th>\n",
       "      <th>Closing Date\r\n",
       "(mm/yyyy)</th>\n",
       "      <th>Term (Months)</th>\n",
       "      <th>...</th>\n",
       "      <th>12-month report\r\n",
       "Financial counseling provided during period of mortgage relief</th>\n",
       "      <th>12-month report\r\n",
       "Other training/support received from HFH?</th>\n",
       "      <th>12-month report\r\n",
       "Description of other training received</th>\n",
       "      <th>12-month report\r\n",
       "Referrals to other agencies</th>\n",
       "      <th>12-month report\r\n",
       "Describe referral</th>\n",
       "      <th>12-month report Resident Loan number-referenced) currently residing in home?</th>\n",
       "      <th>12-month report If resident no longer residing in home, please explain</th>\n",
       "      <th>12-month report-additional details on titleholders residing in home</th>\n",
       "      <th>Note</th>\n",
       "      <th>Funds</th>\n",
       "    </tr>\n",
       "  </thead>\n",
       "  <tbody>\n",
       "    <tr>\n",
       "      <th>0</th>\n",
       "      <td>Aitkin County HFH  (MN)</td>\n",
       "      <td>1</td>\n",
       "      <td>78001567</td>\n",
       "      <td>NaN</td>\n",
       "      <td>Aitkin</td>\n",
       "      <td>MN</td>\n",
       "      <td>56431</td>\n",
       "      <td>$ 88,800.00</td>\n",
       "      <td>9/27/2013</td>\n",
       "      <td>240.0</td>\n",
       "      <td>...</td>\n",
       "      <td>Yes</td>\n",
       "      <td>No</td>\n",
       "      <td>local banker/mentor</td>\n",
       "      <td>No</td>\n",
       "      <td>NaN</td>\n",
       "      <td>Yes</td>\n",
       "      <td>NaN</td>\n",
       "      <td>NaN</td>\n",
       "      <td>NaN</td>\n",
       "      <td>Thrivent</td>\n",
       "    </tr>\n",
       "  </tbody>\n",
       "</table>\n",
       "<p>1 rows × 89 columns</p>\n",
       "</div>"
      ],
      "text/plain": [
       "                 Affiliate  ID   Loan No  \\\n",
       "0  Aitkin County HFH  (MN)   1  78001567   \n",
       "\n",
       "   Street Address\\r\\n(ex: 1234 Five Lane)    City State Abbreviation    Zip  \\\n",
       "0                                     NaN  Aitkin                 MN  56431   \n",
       "\n",
       "    Sales Price  Closing Date\\r\\n(mm/yyyy)  Term (Months)  ...  \\\n",
       "0   $ 88,800.00                  9/27/2013          240.0  ...   \n",
       "\n",
       "  12-month report\\r\\nFinancial counseling provided during period of mortgage relief  \\\n",
       "0                                                Yes                                  \n",
       "\n",
       "  12-month report\\r\\nOther training/support received from HFH?  \\\n",
       "0                                                 No             \n",
       "\n",
       "  12-month report\\r\\nDescription of other training received  \\\n",
       "0                                local banker/mentor          \n",
       "\n",
       "  12-month report\\r\\nReferrals to other agencies  \\\n",
       "0                                             No   \n",
       "\n",
       "  12-month report\\r\\nDescribe referral  \\\n",
       "0                                  NaN   \n",
       "\n",
       "  12-month report Resident Loan number-referenced) currently residing in home?  \\\n",
       "0                                                Yes                             \n",
       "\n",
       "  12-month report If resident no longer residing in home, please explain  \\\n",
       "0                                                NaN                       \n",
       "\n",
       "  12-month report-additional details on titleholders residing in home Note  \\\n",
       "0                                                NaN                   NaN   \n",
       "\n",
       "      Funds  \n",
       "0  Thrivent  \n",
       "\n",
       "[1 rows x 89 columns]"
      ]
     },
     "execution_count": 2,
     "metadata": {},
     "output_type": "execute_result"
    }
   ],
   "source": [
    "## import table from HFHI\n",
    "mortgagerelief = pd.read_csv('MRData.csv')\n",
    "mortgagerelief.head(1)"
   ]
  },
  {
   "cell_type": "code",
   "execution_count": 13,
   "metadata": {},
   "outputs": [
    {
     "data": {
      "text/plain": [
       "Text(0.5, 1.0, '# in household')"
      ]
     },
     "execution_count": 13,
     "metadata": {},
     "output_type": "execute_result"
    },
    {
     "data": {
      "image/png": "[encoded data removed]",
      "text/plain": [
       "<Figure size 432x288 with 1 Axes>"
      ]
     },
     "metadata": {
      "needs_background": "light"
     },
     "output_type": "display_data"
    }
   ],
   "source": [
    "ages = mortgagerelief[[\"# in household 0-5 years\", \"# in household 6-12 years\", \"# in household 13-17 years\",\n",
    "                      \"# in household  18-64 years\", \"# in household 65+ years\"]]\n",
    "ages = ages.fillna(0)\n",
    "ages = ages.replace({\"n/a\": 0, \"N/A\": 0, \"Unknown\": 0, \"Unkown\": 0, \"same as above file\": 0,\n",
    "                    \"No App on File\": 0})\n",
    "ages = ages.rename(columns = {\"# in household 0-5 years\": \"0-5 years\", \"# in household 6-12 years\":\"6-12 years\", \"# in household 13-17 years\": \"13-17 years\",\n",
    "                      \"# in household  18-64 years\": \"18-64 years\", \"# in household 65+ years\": \"65 + years\"})\n",
    "ages = ages.astype(int)\n",
    "ages = ages.sum(axis = 0)\n",
    "ages = ages / sum(ages) * 100\n",
    "ages = ages.sort_values()\n",
    "ages.plot.barh()\n",
    "plt.title(\"# in household\")"
   ]
  },
  {
   "cell_type": "code",
   "execution_count": null,
   "metadata": {},
   "outputs": [],
   "source": []
  }
 ],
 "metadata": {
  "kernelspec": {
   "display_name": "Python 3",
   "language": "python",
   "name": "python3"
  },
  "language_info": {
   "codemirror_mode": {
    "name": "ipython",
    "version": 3
   },
   "file_extension": ".py",
   "mimetype": "text/x-python",
   "name": "python",
   "nbconvert_exporter": "python",
   "pygments_lexer": "ipython3",
   "version": "3.7.3"
  }
 },
 "nbformat": 4,
 "nbformat_minor": 2
}
